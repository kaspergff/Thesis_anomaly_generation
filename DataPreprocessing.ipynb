{
 "cells": [
  {
   "cell_type": "code",
   "execution_count": 2,
   "metadata": {},
   "outputs": [],
   "source": [
    "import pandas as pd\n",
    "from collections import Counter\n",
    "import numpy as np"
   ]
  },
  {
   "cell_type": "code",
   "execution_count": 3,
   "metadata": {},
   "outputs": [],
   "source": [
    "base_df = pd.read_csv(\"BPI2016_Clicks_Logged_In.csv\", encoding_errors=\"ignore\", on_bad_lines='skip', sep=\";\",\n",
    "                        usecols=['SessionID', 'TIMESTAMP', 'URL_FILE', ])\n",
    "base_df.rename(columns={'URL_FILE':'Activity'}, inplace=True)\n",
    "base_df[\"TIMESTAMP\"] = pd.to_datetime(base_df[\"TIMESTAMP\"], infer_datetime_format=True)\n",
    "base_df = base_df.sort_values([\"SessionID\", \"TIMESTAMP\"])"
   ]
  },
  {
   "cell_type": "code",
   "execution_count": 5,
   "metadata": {},
   "outputs": [
    {
     "data": {
      "text/plain": [
       "660270"
      ]
     },
     "execution_count": 5,
     "metadata": {},
     "output_type": "execute_result"
    }
   ],
   "source": [
    "# unique sessions\n",
    "uni = base_df[\"SessionID\"].unique()\n",
    "len(uni)"
   ]
  },
  {
   "cell_type": "markdown",
   "metadata": {},
   "source": [
    "We want to remove a activity is the activity before it is the same"
   ]
  },
  {
   "cell_type": "code",
   "execution_count": 7,
   "metadata": {},
   "outputs": [],
   "source": [
    "def create_clear_sequence(_df:pd.DataFrame):\n",
    "  df = _df.copy()\n",
    "  # group by session and create a column with the next activity\n",
    "  df[\"Act_before\"] = df.groupby(\"SessionID\")[\"Activity\"].shift(periods=+1)\n",
    "  df['same_act'] = df['Activity'] == df['Act_before']\n",
    "  # remove row if the activity is the same as the previous one\n",
    "  df = df[df['same_act'] == False]\n",
    "  # drop the columns that are not needed anymore\n",
    "  df = df.drop(columns=['same_act', 'Act_before'])\n",
    "  return df\n",
    "  "
   ]
  },
  {
   "cell_type": "code",
   "execution_count": 8,
   "metadata": {},
   "outputs": [
    {
     "data": {
      "text/html": [
       "<div>\n",
       "<style scoped>\n",
       "    .dataframe tbody tr th:only-of-type {\n",
       "        vertical-align: middle;\n",
       "    }\n",
       "\n",
       "    .dataframe tbody tr th {\n",
       "        vertical-align: top;\n",
       "    }\n",
       "\n",
       "    .dataframe thead th {\n",
       "        text-align: right;\n",
       "    }\n",
       "</style>\n",
       "<table border=\"1\" class=\"dataframe\">\n",
       "  <thead>\n",
       "    <tr style=\"text-align: right;\">\n",
       "      <th></th>\n",
       "      <th>SessionID</th>\n",
       "      <th>TIMESTAMP</th>\n",
       "      <th>Activity</th>\n",
       "    </tr>\n",
       "  </thead>\n",
       "  <tbody>\n",
       "    <tr>\n",
       "      <th>3273278</th>\n",
       "      <td>46</td>\n",
       "      <td>2015-11-06 08:07:22.780</td>\n",
       "      <td>/werk_nl/werknemer/mijn_werkmap/doorgeven/taken</td>\n",
       "    </tr>\n",
       "    <tr>\n",
       "      <th>5333642</th>\n",
       "      <td>46</td>\n",
       "      <td>2015-11-06 08:07:40.767</td>\n",
       "      <td>/werk_nl/werknemer/mijn_werkmap/doorgeven/mijn...</td>\n",
       "    </tr>\n",
       "    <tr>\n",
       "      <th>3733243</th>\n",
       "      <td>46</td>\n",
       "      <td>2015-11-06 08:07:51.390</td>\n",
       "      <td>/werk_nl/werknemer/mijn_werkmap/postvak/mijn_d...</td>\n",
       "    </tr>\n",
       "    <tr>\n",
       "      <th>5904405</th>\n",
       "      <td>46</td>\n",
       "      <td>2015-11-06 08:08:06.003</td>\n",
       "      <td>/werk_nl/werknemer/mijn_werkmap/postvak/mijn_b...</td>\n",
       "    </tr>\n",
       "    <tr>\n",
       "      <th>1071622</th>\n",
       "      <td>92</td>\n",
       "      <td>2015-10-14 14:59:37.753</td>\n",
       "      <td>/werk_nl/werknemer/mijn_werkmap</td>\n",
       "    </tr>\n",
       "    <tr>\n",
       "      <th>...</th>\n",
       "      <td>...</td>\n",
       "      <td>...</td>\n",
       "      <td>...</td>\n",
       "    </tr>\n",
       "    <tr>\n",
       "      <th>1400504</th>\n",
       "      <td>55314390</td>\n",
       "      <td>2016-02-28 09:26:57.507</td>\n",
       "      <td>/werk_nl/werknemer/home</td>\n",
       "    </tr>\n",
       "    <tr>\n",
       "      <th>2213018</th>\n",
       "      <td>55314605</td>\n",
       "      <td>2016-02-27 10:13:43.503</td>\n",
       "      <td>/xdocs/ux-frontend/fonts/uwvsanlig-webfont.woff</td>\n",
       "    </tr>\n",
       "    <tr>\n",
       "      <th>3084818</th>\n",
       "      <td>55314605</td>\n",
       "      <td>2016-02-27 10:13:51.350</td>\n",
       "      <td>/werk_nl/werknemer/mijn_werkmap/werk-zoeken/va...</td>\n",
       "    </tr>\n",
       "    <tr>\n",
       "      <th>1613546</th>\n",
       "      <td>55314751</td>\n",
       "      <td>2016-02-28 08:17:15.947</td>\n",
       "      <td>/werk_nl/werknemer/werkmap</td>\n",
       "    </tr>\n",
       "    <tr>\n",
       "      <th>2925569</th>\n",
       "      <td>55314751</td>\n",
       "      <td>2016-02-28 08:18:10.877</td>\n",
       "      <td>/werk_nl/werknemer/mijn_werkmap/doorgeven/taken</td>\n",
       "    </tr>\n",
       "  </tbody>\n",
       "</table>\n",
       "<p>2968012 rows × 3 columns</p>\n",
       "</div>"
      ],
      "text/plain": [
       "         SessionID               TIMESTAMP  \\\n",
       "3273278         46 2015-11-06 08:07:22.780   \n",
       "5333642         46 2015-11-06 08:07:40.767   \n",
       "3733243         46 2015-11-06 08:07:51.390   \n",
       "5904405         46 2015-11-06 08:08:06.003   \n",
       "1071622         92 2015-10-14 14:59:37.753   \n",
       "...            ...                     ...   \n",
       "1400504   55314390 2016-02-28 09:26:57.507   \n",
       "2213018   55314605 2016-02-27 10:13:43.503   \n",
       "3084818   55314605 2016-02-27 10:13:51.350   \n",
       "1613546   55314751 2016-02-28 08:17:15.947   \n",
       "2925569   55314751 2016-02-28 08:18:10.877   \n",
       "\n",
       "                                                  Activity  \n",
       "3273278    /werk_nl/werknemer/mijn_werkmap/doorgeven/taken  \n",
       "5333642  /werk_nl/werknemer/mijn_werkmap/doorgeven/mijn...  \n",
       "3733243  /werk_nl/werknemer/mijn_werkmap/postvak/mijn_d...  \n",
       "5904405  /werk_nl/werknemer/mijn_werkmap/postvak/mijn_b...  \n",
       "1071622                    /werk_nl/werknemer/mijn_werkmap  \n",
       "...                                                    ...  \n",
       "1400504                            /werk_nl/werknemer/home  \n",
       "2213018    /xdocs/ux-frontend/fonts/uwvsanlig-webfont.woff  \n",
       "3084818  /werk_nl/werknemer/mijn_werkmap/werk-zoeken/va...  \n",
       "1613546                         /werk_nl/werknemer/werkmap  \n",
       "2925569    /werk_nl/werknemer/mijn_werkmap/doorgeven/taken  \n",
       "\n",
       "[2968012 rows x 3 columns]"
      ]
     },
     "execution_count": 8,
     "metadata": {},
     "output_type": "execute_result"
    }
   ],
   "source": [
    "no_repeated_df = create_clear_sequence(base_df)\n",
    "no_repeated_df"
   ]
  },
  {
   "cell_type": "code",
   "execution_count": null,
   "metadata": {},
   "outputs": [],
   "source": [
    "# export the dataframe to a csv file\n",
    "no_repeated_df.to_csv(\"no_repeated.csv\", index=False)"
   ]
  }
 ],
 "metadata": {
  "kernelspec": {
   "display_name": "Python 3.10.4 64-bit",
   "language": "python",
   "name": "python3"
  },
  "language_info": {
   "codemirror_mode": {
    "name": "ipython",
    "version": 3
   },
   "file_extension": ".py",
   "mimetype": "text/x-python",
   "name": "python",
   "nbconvert_exporter": "python",
   "pygments_lexer": "ipython3",
   "version": "3.10.4"
  },
  "orig_nbformat": 4,
  "vscode": {
   "interpreter": {
    "hash": "369f2c481f4da34e4445cda3fffd2e751bd1c4d706f27375911949ba6bb62e1c"
   }
  }
 },
 "nbformat": 4,
 "nbformat_minor": 2
}
