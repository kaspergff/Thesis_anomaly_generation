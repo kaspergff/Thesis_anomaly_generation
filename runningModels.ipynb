{
 "cells": [
  {
   "cell_type": "code",
   "execution_count": 41,
   "metadata": {},
   "outputs": [],
   "source": [
    "import pandas as pd\n",
    "from sklearn.preprocessing import OneHotEncoder\n",
    "import matplotlib.pyplot as plt\n",
    "import numpy as np\n",
    "from sklearn.model_selection import train_test_split\n",
    "from sklearn.preprocessing import LabelEncoder\n",
    "# imprt tree\n",
    "from sklearn import tree\n",
    "# import metrics\n",
    "from sklearn import metrics"
   ]
  },
  {
   "cell_type": "code",
   "execution_count": 42,
   "metadata": {},
   "outputs": [
    {
     "name": "stderr",
     "output_type": "stream",
     "text": [
      "C:\\Users\\krdeg\\AppData\\Local\\Temp\\ipykernel_21056\\2868962687.py:1: DtypeWarning: Columns (15) have mixed types. Specify dtype option on import or set low_memory=False.\n",
      "  df_raw = pd.read_csv(\"labeled_data/skipped/015_5.csv\", encoding_errors=\"ignore\", on_bad_lines='skip', sep=\",\",\n"
     ]
    }
   ],
   "source": [
    "df_raw = pd.read_csv(\"labeled_data/skipped/015_5.csv\", encoding_errors=\"ignore\", on_bad_lines='skip', sep=\",\",\n",
    "                    usecols=[ 'CustomerID', 'AgeCategory', 'Gender', 'Office_U', 'Office_W',\n",
    "                    'SessionID', 'IPID', 'TIMESTAMP', 'VHOST', 'Activity', 'PAGE_NAME',\n",
    "                    'REF_URL_category', 'page_load_error', 'page_action_detail', 'tip',\n",
    "                    'service_detail', 'xps_info','anomaly'])\n",
    "df_raw[\"TIMESTAMP\"] = pd.to_datetime(df_raw[\"TIMESTAMP\"], infer_datetime_format=True)\n",
    "df_raw = df_raw.sort_values(by=[\"SessionID\", \"TIMESTAMP\"]).copy()"
   ]
  },
  {
   "cell_type": "code",
   "execution_count": 43,
   "metadata": {},
   "outputs": [
    {
     "data": {
      "text/html": [
       "<div>\n",
       "<style scoped>\n",
       "    .dataframe tbody tr th:only-of-type {\n",
       "        vertical-align: middle;\n",
       "    }\n",
       "\n",
       "    .dataframe tbody tr th {\n",
       "        vertical-align: top;\n",
       "    }\n",
       "\n",
       "    .dataframe thead th {\n",
       "        text-align: right;\n",
       "    }\n",
       "</style>\n",
       "<table border=\"1\" class=\"dataframe\">\n",
       "  <thead>\n",
       "    <tr style=\"text-align: right;\">\n",
       "      <th></th>\n",
       "      <th>CustomerID</th>\n",
       "      <th>AgeCategory</th>\n",
       "      <th>Gender</th>\n",
       "      <th>Office_U</th>\n",
       "      <th>Office_W</th>\n",
       "      <th>SessionID</th>\n",
       "      <th>IPID</th>\n",
       "      <th>TIMESTAMP</th>\n",
       "      <th>VHOST</th>\n",
       "      <th>Activity</th>\n",
       "      <th>PAGE_NAME</th>\n",
       "      <th>REF_URL_category</th>\n",
       "      <th>page_load_error</th>\n",
       "      <th>page_action_detail</th>\n",
       "      <th>tip</th>\n",
       "      <th>service_detail</th>\n",
       "      <th>xps_info</th>\n",
       "      <th>anomaly</th>\n",
       "    </tr>\n",
       "  </thead>\n",
       "  <tbody>\n",
       "    <tr>\n",
       "      <th>0</th>\n",
       "      <td>1837760</td>\n",
       "      <td>50-65</td>\n",
       "      <td>M</td>\n",
       "      <td>247</td>\n",
       "      <td>247</td>\n",
       "      <td>46</td>\n",
       "      <td>1419591</td>\n",
       "      <td>2015-11-06 08:07:22.780</td>\n",
       "      <td>digid.werk.nl</td>\n",
       "      <td>/werk_nl/werknemer/mijn_werkmap/doorgeven/taken</td>\n",
       "      <td>taken</td>\n",
       "      <td>NaN</td>\n",
       "      <td>0</td>\n",
       "      <td>NaN</td>\n",
       "      <td>NaN</td>\n",
       "      <td>NaN</td>\n",
       "      <td>NaN</td>\n",
       "      <td>False</td>\n",
       "    </tr>\n",
       "    <tr>\n",
       "      <th>1</th>\n",
       "      <td>1837760</td>\n",
       "      <td>50-65</td>\n",
       "      <td>M</td>\n",
       "      <td>247</td>\n",
       "      <td>247</td>\n",
       "      <td>46</td>\n",
       "      <td>1419591</td>\n",
       "      <td>2015-11-06 08:07:40.767</td>\n",
       "      <td>digid.werk.nl</td>\n",
       "      <td>/werk_nl/werknemer/mijn_werkmap/doorgeven/mijn...</td>\n",
       "      <td>mijn_sollicitaties</td>\n",
       "      <td>NaN</td>\n",
       "      <td>0</td>\n",
       "      <td>NaN</td>\n",
       "      <td>NaN</td>\n",
       "      <td>NaN</td>\n",
       "      <td>NaN</td>\n",
       "      <td>False</td>\n",
       "    </tr>\n",
       "    <tr>\n",
       "      <th>2</th>\n",
       "      <td>1837760</td>\n",
       "      <td>50-65</td>\n",
       "      <td>M</td>\n",
       "      <td>247</td>\n",
       "      <td>247</td>\n",
       "      <td>46</td>\n",
       "      <td>1419591</td>\n",
       "      <td>2015-11-06 08:07:51.390</td>\n",
       "      <td>digid.werk.nl</td>\n",
       "      <td>/werk_nl/werknemer/mijn_werkmap/postvak/mijn_d...</td>\n",
       "      <td>mijn_documenten</td>\n",
       "      <td>NaN</td>\n",
       "      <td>0</td>\n",
       "      <td>NaN</td>\n",
       "      <td>NaN</td>\n",
       "      <td>NaN</td>\n",
       "      <td>NaN</td>\n",
       "      <td>False</td>\n",
       "    </tr>\n",
       "    <tr>\n",
       "      <th>3</th>\n",
       "      <td>1837760</td>\n",
       "      <td>50-65</td>\n",
       "      <td>M</td>\n",
       "      <td>247</td>\n",
       "      <td>247</td>\n",
       "      <td>46</td>\n",
       "      <td>1419591</td>\n",
       "      <td>2015-11-06 08:08:06.003</td>\n",
       "      <td>digid.werk.nl</td>\n",
       "      <td>/werk_nl/werknemer/mijn_werkmap/postvak/mijn_b...</td>\n",
       "      <td>mijn_berichten</td>\n",
       "      <td>NaN</td>\n",
       "      <td>0</td>\n",
       "      <td>NaN</td>\n",
       "      <td>NaN</td>\n",
       "      <td>NaN</td>\n",
       "      <td>NaN</td>\n",
       "      <td>False</td>\n",
       "    </tr>\n",
       "    <tr>\n",
       "      <th>4</th>\n",
       "      <td>1837760</td>\n",
       "      <td>50-65</td>\n",
       "      <td>M</td>\n",
       "      <td>247</td>\n",
       "      <td>247</td>\n",
       "      <td>46</td>\n",
       "      <td>1419591</td>\n",
       "      <td>2015-11-06 08:08:19.343</td>\n",
       "      <td>digid.werk.nl</td>\n",
       "      <td>/werk_nl/werknemer/mijn_werkmap/postvak/mijn_b...</td>\n",
       "      <td>mijn_berichten</td>\n",
       "      <td>NaN</td>\n",
       "      <td>0</td>\n",
       "      <td>NaN</td>\n",
       "      <td>NaN</td>\n",
       "      <td>NaN</td>\n",
       "      <td>NaN</td>\n",
       "      <td>False</td>\n",
       "    </tr>\n",
       "  </tbody>\n",
       "</table>\n",
       "</div>"
      ],
      "text/plain": [
       "   CustomerID AgeCategory Gender  Office_U  Office_W  SessionID     IPID  \\\n",
       "0     1837760       50-65      M       247       247         46  1419591   \n",
       "1     1837760       50-65      M       247       247         46  1419591   \n",
       "2     1837760       50-65      M       247       247         46  1419591   \n",
       "3     1837760       50-65      M       247       247         46  1419591   \n",
       "4     1837760       50-65      M       247       247         46  1419591   \n",
       "\n",
       "                TIMESTAMP          VHOST  \\\n",
       "0 2015-11-06 08:07:22.780  digid.werk.nl   \n",
       "1 2015-11-06 08:07:40.767  digid.werk.nl   \n",
       "2 2015-11-06 08:07:51.390  digid.werk.nl   \n",
       "3 2015-11-06 08:08:06.003  digid.werk.nl   \n",
       "4 2015-11-06 08:08:19.343  digid.werk.nl   \n",
       "\n",
       "                                            Activity           PAGE_NAME  \\\n",
       "0    /werk_nl/werknemer/mijn_werkmap/doorgeven/taken               taken   \n",
       "1  /werk_nl/werknemer/mijn_werkmap/doorgeven/mijn...  mijn_sollicitaties   \n",
       "2  /werk_nl/werknemer/mijn_werkmap/postvak/mijn_d...     mijn_documenten   \n",
       "3  /werk_nl/werknemer/mijn_werkmap/postvak/mijn_b...      mijn_berichten   \n",
       "4  /werk_nl/werknemer/mijn_werkmap/postvak/mijn_b...      mijn_berichten   \n",
       "\n",
       "  REF_URL_category  page_load_error page_action_detail  tip service_detail  \\\n",
       "0              NaN                0                NaN  NaN            NaN   \n",
       "1              NaN                0                NaN  NaN            NaN   \n",
       "2              NaN                0                NaN  NaN            NaN   \n",
       "3              NaN                0                NaN  NaN            NaN   \n",
       "4              NaN                0                NaN  NaN            NaN   \n",
       "\n",
       "  xps_info  anomaly  \n",
       "0      NaN    False  \n",
       "1      NaN    False  \n",
       "2      NaN    False  \n",
       "3      NaN    False  \n",
       "4      NaN    False  "
      ]
     },
     "execution_count": 43,
     "metadata": {},
     "output_type": "execute_result"
    }
   ],
   "source": [
    "df_raw.head()"
   ]
  },
  {
   "cell_type": "markdown",
   "metadata": {},
   "source": [
    "Dataset "
   ]
  },
  {
   "cell_type": "code",
   "execution_count": 44,
   "metadata": {},
   "outputs": [
    {
     "name": "stdout",
     "output_type": "stream",
     "text": [
      "Amount of anomalous sessions in the dataset:   277\n",
      "Amount of normal sessions in the dataset:      659993\n",
      "Distribution:                                  0.04197014210756781 %\n"
     ]
    }
   ],
   "source": [
    "# count the number of unique SessionID where anomaly == True\n",
    "count_anomaly_raw = df_raw[df_raw[\"anomaly\"] == True][\"SessionID\"].nunique()\n",
    "count_normal_raw = df_raw[df_raw[\"anomaly\"] == False][\"SessionID\"].nunique()\n",
    "print(f'Amount of anomalous sessions in the dataset:   {count_anomaly_raw}' )\n",
    "print(f'Amount of normal sessions in the dataset:      {count_normal_raw}')\n",
    "distribution =  count_anomaly_raw / count_normal_raw \n",
    "print(f'Distribution:                                  {distribution * 100} %')"
   ]
  },
  {
   "cell_type": "markdown",
   "metadata": {},
   "source": [
    "To make the calculations work on my laptop I need to take a sample of the dataset.\n",
    "\n",
    "For now I take the first 50.000 sessions"
   ]
  },
  {
   "cell_type": "code",
   "execution_count": 45,
   "metadata": {},
   "outputs": [],
   "source": [
    "nr_of_sessions_used = 50000\n",
    "# get a random sample of the sessions\n",
    "df_ = df_raw[df_raw[\"SessionID\"].isin(df_raw[\"SessionID\"].unique()[:nr_of_sessions_used])]\n",
    "\n",
    "# Only use the columns that are needed -> SessionID, Activity, anomaly\n",
    "df_50k = df_[[\"SessionID\", \"Activity\", \"anomaly\"]]\n"
   ]
  },
  {
   "cell_type": "code",
   "execution_count": 46,
   "metadata": {},
   "outputs": [
    {
     "name": "stdout",
     "output_type": "stream",
     "text": [
      "Amount of anomalous sessions in the sampled dataset:   18\n",
      "Amount of normal sessions in the sampled dataset:      49982\n",
      "Distribution:                                          0.03601296466728022 %\n"
     ]
    }
   ],
   "source": [
    "# count the number of unique SessionID where anomaly == True\n",
    "count_anomaly = df_50k[df_50k[\"anomaly\"] == True][\"SessionID\"].nunique()\n",
    "count_normal = df_50k[df_50k[\"anomaly\"] == False][\"SessionID\"].nunique()\n",
    "print(f'Amount of anomalous sessions in the sampled dataset:   {count_anomaly}')\n",
    "print(f'Amount of normal sessions in the sampled dataset:      {count_normal}')\n",
    "distribution =  count_anomaly / count_normal \n",
    "print(f'Distribution:                                          {distribution * 100} %')"
   ]
  },
  {
   "cell_type": "markdown",
   "metadata": {},
   "source": [
    "Helper functions"
   ]
  },
  {
   "cell_type": "code",
   "execution_count": 47,
   "metadata": {},
   "outputs": [],
   "source": [
    "# function to encode the activities\n",
    "def encode_activities(_df):\n",
    "    df = _df.copy()\n",
    "    le = LabelEncoder()\n",
    "    le.fit(df[\"Activity\"])\n",
    "    df[\"Activity\"] = le.transform(df[\"Activity\"])\n",
    "    return df"
   ]
  },
  {
   "cell_type": "code",
   "execution_count": 48,
   "metadata": {},
   "outputs": [],
   "source": [
    "# function to use one hot encoding on a sequence of activities\n",
    "def oneHot_encoder(_sequence):\n",
    "  sequence = np.array(_sequence)\n",
    "  oneHot_encoder = OneHotEncoder(sparse=False)\n",
    "  sequence = sequence.reshape(len(sequence), 1)\n",
    "  oneHot_encoded = oneHot_encoder.fit_transform(sequence)\n",
    "  return oneHot_encoded\n"
   ]
  },
  {
   "cell_type": "code",
   "execution_count": 49,
   "metadata": {},
   "outputs": [
    {
     "name": "stdout",
     "output_type": "stream",
     "text": [
      "Amount of unique activities without encoding: 430\n",
      "Amount of unique activities with encoding:    430\n",
      "The encoding is correct\n"
     ]
    },
    {
     "data": {
      "text/html": [
       "<div>\n",
       "<style scoped>\n",
       "    .dataframe tbody tr th:only-of-type {\n",
       "        vertical-align: middle;\n",
       "    }\n",
       "\n",
       "    .dataframe tbody tr th {\n",
       "        vertical-align: top;\n",
       "    }\n",
       "\n",
       "    .dataframe thead th {\n",
       "        text-align: right;\n",
       "    }\n",
       "</style>\n",
       "<table border=\"1\" class=\"dataframe\">\n",
       "  <thead>\n",
       "    <tr style=\"text-align: right;\">\n",
       "      <th></th>\n",
       "      <th>SessionID</th>\n",
       "      <th>Activity</th>\n",
       "      <th>anomaly</th>\n",
       "    </tr>\n",
       "  </thead>\n",
       "  <tbody>\n",
       "    <tr>\n",
       "      <th>0</th>\n",
       "      <td>46</td>\n",
       "      <td>163</td>\n",
       "      <td>False</td>\n",
       "    </tr>\n",
       "    <tr>\n",
       "      <th>1</th>\n",
       "      <td>46</td>\n",
       "      <td>162</td>\n",
       "      <td>False</td>\n",
       "    </tr>\n",
       "    <tr>\n",
       "      <th>2</th>\n",
       "      <td>46</td>\n",
       "      <td>182</td>\n",
       "      <td>False</td>\n",
       "    </tr>\n",
       "    <tr>\n",
       "      <th>3</th>\n",
       "      <td>46</td>\n",
       "      <td>181</td>\n",
       "      <td>False</td>\n",
       "    </tr>\n",
       "    <tr>\n",
       "      <th>4</th>\n",
       "      <td>46</td>\n",
       "      <td>181</td>\n",
       "      <td>False</td>\n",
       "    </tr>\n",
       "  </tbody>\n",
       "</table>\n",
       "</div>"
      ],
      "text/plain": [
       "   SessionID  Activity  anomaly\n",
       "0         46       163    False\n",
       "1         46       162    False\n",
       "2         46       182    False\n",
       "3         46       181    False\n",
       "4         46       181    False"
      ]
     },
     "execution_count": 49,
     "metadata": {},
     "output_type": "execute_result"
    }
   ],
   "source": [
    "seq = encode_activities(df_50k)\n",
    "\n",
    "# count the amount unique activities\n",
    "count_activities_without_encoding = df_50k[\"Activity\"].nunique()\n",
    "count_activities = seq[\"Activity\"].nunique()\n",
    "print(f'Amount of unique activities without encoding: {count_activities_without_encoding}')\n",
    "print(f'Amount of unique activities with encoding:    {count_activities}')\n",
    "if count_activities_without_encoding == count_activities:\n",
    "  print(\"The encoding is correct\")\n",
    "else:\n",
    "  print(\"The encoding is not correct\")\n",
    "seq.head()"
   ]
  },
  {
   "cell_type": "code",
   "execution_count": 50,
   "metadata": {},
   "outputs": [],
   "source": [
    "# function to create a list of al the activities\n",
    "def activities_list(_df):\n",
    "  df = _df.copy()\n",
    "  activities = []\n",
    "  for i in df[\"Activity\"].unique():\n",
    "    activities.append(i)\n",
    "  return activities\n",
    "\n",
    "act = activities_list(seq)"
   ]
  },
  {
   "cell_type": "code",
   "execution_count": 51,
   "metadata": {},
   "outputs": [],
   "source": [
    "# function to create a dictionary with the activities as keys and the one hot encoded activities as values\n",
    "def create_dict(_activities):\n",
    "  dic = {}\n",
    "  activities = _activities.copy()\n",
    "  encoded = oneHot_encoder(activities)\n",
    "  for i in range(len(activities)):\n",
    "    dic[activities[i]] = encoded[i]\n",
    "  return dic"
   ]
  },
  {
   "cell_type": "code",
   "execution_count": 52,
   "metadata": {},
   "outputs": [
    {
     "data": {
      "text/plain": [
       "430"
      ]
     },
     "execution_count": 52,
     "metadata": {},
     "output_type": "execute_result"
    }
   ],
   "source": [
    "encoded_dict = create_dict(act)\n",
    "len(encoded_dict)"
   ]
  },
  {
   "cell_type": "code",
   "execution_count": 53,
   "metadata": {},
   "outputs": [],
   "source": [
    "# function to transform each session into a sequence of activities\n",
    "def transform_session_to_sequence(_df):\n",
    "  df = _df.copy()\n",
    "  df_ses = df.groupby(\"SessionID\")[\"Activity\"].apply(list).reset_index()\n",
    "  # merge the anomaly column\n",
    "  df_ses = df_ses.merge(df[[\"SessionID\", \"anomaly\"]].drop_duplicates(), on=\"SessionID\")\n",
    "  return df_ses"
   ]
  },
  {
   "cell_type": "code",
   "execution_count": 54,
   "metadata": {},
   "outputs": [
    {
     "name": "stdout",
     "output_type": "stream",
     "text": [
      "The encoding is correct\n"
     ]
    },
    {
     "data": {
      "text/html": [
       "<div>\n",
       "<style scoped>\n",
       "    .dataframe tbody tr th:only-of-type {\n",
       "        vertical-align: middle;\n",
       "    }\n",
       "\n",
       "    .dataframe tbody tr th {\n",
       "        vertical-align: top;\n",
       "    }\n",
       "\n",
       "    .dataframe thead th {\n",
       "        text-align: right;\n",
       "    }\n",
       "</style>\n",
       "<table border=\"1\" class=\"dataframe\">\n",
       "  <thead>\n",
       "    <tr style=\"text-align: right;\">\n",
       "      <th></th>\n",
       "      <th>SessionID</th>\n",
       "      <th>Activity</th>\n",
       "      <th>anomaly</th>\n",
       "    </tr>\n",
       "  </thead>\n",
       "  <tbody>\n",
       "    <tr>\n",
       "      <th>0</th>\n",
       "      <td>46</td>\n",
       "      <td>[163, 162, 182, 181, 181, 181]</td>\n",
       "      <td>False</td>\n",
       "    </tr>\n",
       "    <tr>\n",
       "      <th>1</th>\n",
       "      <td>92</td>\n",
       "      <td>[161]</td>\n",
       "      <td>False</td>\n",
       "    </tr>\n",
       "    <tr>\n",
       "      <th>2</th>\n",
       "      <td>358</td>\n",
       "      <td>[181, 163, 190, 181, 181, 181, 181, 161, 159]</td>\n",
       "      <td>False</td>\n",
       "    </tr>\n",
       "    <tr>\n",
       "      <th>3</th>\n",
       "      <td>420</td>\n",
       "      <td>[163, 163, 163, 163, 163, 163]</td>\n",
       "      <td>False</td>\n",
       "    </tr>\n",
       "    <tr>\n",
       "      <th>4</th>\n",
       "      <td>447</td>\n",
       "      <td>[181, 181, 181, 181]</td>\n",
       "      <td>False</td>\n",
       "    </tr>\n",
       "    <tr>\n",
       "      <th>...</th>\n",
       "      <td>...</td>\n",
       "      <td>...</td>\n",
       "      <td>...</td>\n",
       "    </tr>\n",
       "    <tr>\n",
       "      <th>49995</th>\n",
       "      <td>5486344</td>\n",
       "      <td>[163]</td>\n",
       "      <td>False</td>\n",
       "    </tr>\n",
       "    <tr>\n",
       "      <th>49996</th>\n",
       "      <td>5486405</td>\n",
       "      <td>[163, 159, 159, 159]</td>\n",
       "      <td>False</td>\n",
       "    </tr>\n",
       "    <tr>\n",
       "      <th>49997</th>\n",
       "      <td>5486408</td>\n",
       "      <td>[159, 181, 162, 163, 163, 163, 163, 163, 163, ...</td>\n",
       "      <td>False</td>\n",
       "    </tr>\n",
       "    <tr>\n",
       "      <th>49998</th>\n",
       "      <td>5486558</td>\n",
       "      <td>[297, 181, 181, 181, 181, 181, 181, 181, 181, ...</td>\n",
       "      <td>False</td>\n",
       "    </tr>\n",
       "    <tr>\n",
       "      <th>49999</th>\n",
       "      <td>5486564</td>\n",
       "      <td>[91, 159, 163, 163, 163, 162, 163, 163, 163, 1...</td>\n",
       "      <td>False</td>\n",
       "    </tr>\n",
       "  </tbody>\n",
       "</table>\n",
       "<p>50000 rows × 3 columns</p>\n",
       "</div>"
      ],
      "text/plain": [
       "       SessionID                                           Activity  anomaly\n",
       "0             46                     [163, 162, 182, 181, 181, 181]    False\n",
       "1             92                                              [161]    False\n",
       "2            358      [181, 163, 190, 181, 181, 181, 181, 161, 159]    False\n",
       "3            420                     [163, 163, 163, 163, 163, 163]    False\n",
       "4            447                               [181, 181, 181, 181]    False\n",
       "...          ...                                                ...      ...\n",
       "49995    5486344                                              [163]    False\n",
       "49996    5486405                               [163, 159, 159, 159]    False\n",
       "49997    5486408  [159, 181, 162, 163, 163, 163, 163, 163, 163, ...    False\n",
       "49998    5486558  [297, 181, 181, 181, 181, 181, 181, 181, 181, ...    False\n",
       "49999    5486564  [91, 159, 163, 163, 163, 162, 163, 163, 163, 1...    False\n",
       "\n",
       "[50000 rows x 3 columns]"
      ]
     },
     "execution_count": 54,
     "metadata": {},
     "output_type": "execute_result"
    }
   ],
   "source": [
    "sessions_sequenced_df = transform_session_to_sequence(seq)\n",
    "\n",
    "\n",
    "# count the number of anomaly == True\n",
    "count_encoded_sequences = sessions_sequenced_df['anomaly'].value_counts()[True]\n",
    "if count_encoded_sequences == count_anomaly:\n",
    "  print(\"The encoding is correct\")\n",
    "else:\n",
    "  print(\"The encoding is not correct\")\n",
    "sessions_sequenced_df"
   ]
  },
  {
   "cell_type": "code",
   "execution_count": 55,
   "metadata": {},
   "outputs": [],
   "source": [
    "# function to transform the sequences into one hot encoded sequences\n",
    "sessions_sequenced_df['Activities_Encoded'] = sessions_sequenced_df['Activity']\n",
    "\n",
    "# sessions_sequenced_df['Activities_Encoded'] = sessions_sequenced_df['Activity'].apply(lambda x: [encoded_dict[i] for i in x])    "
   ]
  },
  {
   "cell_type": "code",
   "execution_count": null,
   "metadata": {},
   "outputs": [],
   "source": []
  },
  {
   "cell_type": "code",
   "execution_count": 56,
   "metadata": {},
   "outputs": [],
   "source": [
    "\n",
    "final_df = sessions_sequenced_df.copy()\n",
    "# Drop columns that are not needed anymore: Activity\n",
    "final_df = final_df.drop(columns=[\"Activity\"])\n"
   ]
  },
  {
   "cell_type": "code",
   "execution_count": 57,
   "metadata": {},
   "outputs": [
    {
     "data": {
      "text/html": [
       "<div>\n",
       "<style scoped>\n",
       "    .dataframe tbody tr th:only-of-type {\n",
       "        vertical-align: middle;\n",
       "    }\n",
       "\n",
       "    .dataframe tbody tr th {\n",
       "        vertical-align: top;\n",
       "    }\n",
       "\n",
       "    .dataframe thead th {\n",
       "        text-align: right;\n",
       "    }\n",
       "</style>\n",
       "<table border=\"1\" class=\"dataframe\">\n",
       "  <thead>\n",
       "    <tr style=\"text-align: right;\">\n",
       "      <th></th>\n",
       "      <th>SessionID</th>\n",
       "      <th>anomaly</th>\n",
       "      <th>Activities_Encoded</th>\n",
       "    </tr>\n",
       "  </thead>\n",
       "  <tbody>\n",
       "    <tr>\n",
       "      <th>0</th>\n",
       "      <td>46</td>\n",
       "      <td>False</td>\n",
       "      <td>[163, 162, 182, 181, 181, 181]</td>\n",
       "    </tr>\n",
       "    <tr>\n",
       "      <th>1</th>\n",
       "      <td>92</td>\n",
       "      <td>False</td>\n",
       "      <td>[161]</td>\n",
       "    </tr>\n",
       "    <tr>\n",
       "      <th>2</th>\n",
       "      <td>358</td>\n",
       "      <td>False</td>\n",
       "      <td>[181, 163, 190, 181, 181, 181, 181, 161, 159]</td>\n",
       "    </tr>\n",
       "    <tr>\n",
       "      <th>3</th>\n",
       "      <td>420</td>\n",
       "      <td>False</td>\n",
       "      <td>[163, 163, 163, 163, 163, 163]</td>\n",
       "    </tr>\n",
       "    <tr>\n",
       "      <th>4</th>\n",
       "      <td>447</td>\n",
       "      <td>False</td>\n",
       "      <td>[181, 181, 181, 181]</td>\n",
       "    </tr>\n",
       "    <tr>\n",
       "      <th>...</th>\n",
       "      <td>...</td>\n",
       "      <td>...</td>\n",
       "      <td>...</td>\n",
       "    </tr>\n",
       "    <tr>\n",
       "      <th>49995</th>\n",
       "      <td>5486344</td>\n",
       "      <td>False</td>\n",
       "      <td>[163]</td>\n",
       "    </tr>\n",
       "    <tr>\n",
       "      <th>49996</th>\n",
       "      <td>5486405</td>\n",
       "      <td>False</td>\n",
       "      <td>[163, 159, 159, 159]</td>\n",
       "    </tr>\n",
       "    <tr>\n",
       "      <th>49997</th>\n",
       "      <td>5486408</td>\n",
       "      <td>False</td>\n",
       "      <td>[159, 181, 162, 163, 163, 163, 163, 163, 163, ...</td>\n",
       "    </tr>\n",
       "    <tr>\n",
       "      <th>49998</th>\n",
       "      <td>5486558</td>\n",
       "      <td>False</td>\n",
       "      <td>[297, 181, 181, 181, 181, 181, 181, 181, 181, ...</td>\n",
       "    </tr>\n",
       "    <tr>\n",
       "      <th>49999</th>\n",
       "      <td>5486564</td>\n",
       "      <td>False</td>\n",
       "      <td>[91, 159, 163, 163, 163, 162, 163, 163, 163, 1...</td>\n",
       "    </tr>\n",
       "  </tbody>\n",
       "</table>\n",
       "<p>50000 rows × 3 columns</p>\n",
       "</div>"
      ],
      "text/plain": [
       "       SessionID  anomaly                                 Activities_Encoded\n",
       "0             46    False                     [163, 162, 182, 181, 181, 181]\n",
       "1             92    False                                              [161]\n",
       "2            358    False      [181, 163, 190, 181, 181, 181, 181, 161, 159]\n",
       "3            420    False                     [163, 163, 163, 163, 163, 163]\n",
       "4            447    False                               [181, 181, 181, 181]\n",
       "...          ...      ...                                                ...\n",
       "49995    5486344    False                                              [163]\n",
       "49996    5486405    False                               [163, 159, 159, 159]\n",
       "49997    5486408    False  [159, 181, 162, 163, 163, 163, 163, 163, 163, ...\n",
       "49998    5486558    False  [297, 181, 181, 181, 181, 181, 181, 181, 181, ...\n",
       "49999    5486564    False  [91, 159, 163, 163, 163, 162, 163, 163, 163, 1...\n",
       "\n",
       "[50000 rows x 3 columns]"
      ]
     },
     "execution_count": 57,
     "metadata": {},
     "output_type": "execute_result"
    }
   ],
   "source": [
    "final_df"
   ]
  },
  {
   "cell_type": "code",
   "execution_count": 58,
   "metadata": {},
   "outputs": [],
   "source": [
    "# transform the list to multiple columns\n",
    "final_df_with_col = pd.DataFrame(final_df.Activities_Encoded.values.tolist(), index= final_df.index)"
   ]
  },
  {
   "cell_type": "code",
   "execution_count": 59,
   "metadata": {},
   "outputs": [],
   "source": [
    "# concat the columns to the dataframe\n",
    "df_for_model = pd.concat([final_df, final_df_with_col], axis=1)\n",
    "# drop the Activities_Encoded column\n",
    "df_for_model = df_for_model.drop(columns=[\"Activities_Encoded\"])\n",
    "df_for_model.fillna(0, inplace=True)"
   ]
  },
  {
   "cell_type": "code",
   "execution_count": 60,
   "metadata": {},
   "outputs": [],
   "source": [
    "# Function to split the data into train and test data\n",
    "def split_data(_df):\n",
    "  df = _df.copy()\n",
    "  X = df.drop(columns=[\"anomaly\"])\n",
    "  y = df[\"anomaly\"]\n",
    "  X_train, X_test, y_train, y_test = train_test_split(X,y, test_size=0.2, random_state=42)\n",
    "  return X_train, X_test, y_train, y_test"
   ]
  },
  {
   "cell_type": "code",
   "execution_count": 61,
   "metadata": {},
   "outputs": [],
   "source": [
    "X_train, X_test, y_train, y_test = split_data(df_for_model)"
   ]
  },
  {
   "cell_type": "code",
   "execution_count": 62,
   "metadata": {},
   "outputs": [
    {
     "data": {
      "text/plain": [
       "array([0, 0, 0, ..., 0, 0, 0], dtype=int64)"
      ]
     },
     "execution_count": 62,
     "metadata": {},
     "output_type": "execute_result"
    }
   ],
   "source": [
    "Le = LabelEncoder()\n",
    "Le.fit(y_train)\n",
    "y_train_transformed = Le.transform(y_train)\n",
    "y_test_transformed = Le.transform(y_test)\n",
    "y_train_transformed"
   ]
  },
  {
   "cell_type": "code",
   "execution_count": 63,
   "metadata": {},
   "outputs": [],
   "source": [
    "#Make sure that both dataframes have the same columns\n",
    "for column_name in X_train.columns:\n",
    "    if column_name not in X_test.columns:\n",
    "        X_test[column_name] = 0\n",
    "\n",
    "  #Make sure that both dataframes have the same columns\n",
    "for column_name in X_test.columns:\n",
    "    if column_name not in X_train.columns:\n",
    "        X_test.drop(columns=[column_name], inplace=True)"
   ]
  },
  {
   "cell_type": "code",
   "execution_count": 64,
   "metadata": {},
   "outputs": [
    {
     "name": "stderr",
     "output_type": "stream",
     "text": [
      "c:\\Python310\\lib\\site-packages\\sklearn\\utils\\validation.py:1858: FutureWarning: Feature names only support names that are all strings. Got feature names with dtypes: ['int', 'str']. An error will be raised in 1.2.\n",
      "  warnings.warn(\n"
     ]
    }
   ],
   "source": [
    "clf = tree.DecisionTreeClassifier()\n",
    "clf = clf.fit(X_train, y_train)"
   ]
  },
  {
   "cell_type": "code",
   "execution_count": 65,
   "metadata": {},
   "outputs": [
    {
     "name": "stderr",
     "output_type": "stream",
     "text": [
      "c:\\Python310\\lib\\site-packages\\sklearn\\utils\\validation.py:1858: FutureWarning: Feature names only support names that are all strings. Got feature names with dtypes: ['int', 'str']. An error will be raised in 1.2.\n",
      "  warnings.warn(\n"
     ]
    }
   ],
   "source": [
    "y_test_predict = clf.predict(X_test)"
   ]
  },
  {
   "cell_type": "code",
   "execution_count": 66,
   "metadata": {},
   "outputs": [
    {
     "name": "stdout",
     "output_type": "stream",
     "text": [
      "Accuracy: 0.9988\n"
     ]
    }
   ],
   "source": [
    "print(\"Accuracy:\",metrics.accuracy_score(y_test, y_test_predict))"
   ]
  },
  {
   "cell_type": "code",
   "execution_count": 67,
   "metadata": {},
   "outputs": [
    {
     "name": "stdout",
     "output_type": "stream",
     "text": [
      "Balanced accuracy: 0.49954986495948783\n"
     ]
    }
   ],
   "source": [
    "balanced_accuracy_score = metrics.balanced_accuracy_score(y_test, y_test_predict)\n",
    "print(\"Balanced accuracy:\", balanced_accuracy_score)"
   ]
  }
 ],
 "metadata": {
  "kernelspec": {
   "display_name": "Python 3.10.4 64-bit",
   "language": "python",
   "name": "python3"
  },
  "language_info": {
   "codemirror_mode": {
    "name": "ipython",
    "version": 3
   },
   "file_extension": ".py",
   "mimetype": "text/x-python",
   "name": "python",
   "nbconvert_exporter": "python",
   "pygments_lexer": "ipython3",
   "version": "3.10.4"
  },
  "orig_nbformat": 4,
  "vscode": {
   "interpreter": {
    "hash": "369f2c481f4da34e4445cda3fffd2e751bd1c4d706f27375911949ba6bb62e1c"
   }
  }
 },
 "nbformat": 4,
 "nbformat_minor": 2
}
