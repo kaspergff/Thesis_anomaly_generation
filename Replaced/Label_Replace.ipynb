{
 "cells": [
  {
   "cell_type": "code",
   "execution_count": 1,
   "metadata": {},
   "outputs": [],
   "source": [
    "import pandas as pd\n",
    "from collections import Counter\n",
    "import numpy as np"
   ]
  },
  {
   "cell_type": "code",
   "execution_count": 2,
   "metadata": {},
   "outputs": [
    {
     "data": {
      "text/html": [
       "<div>\n",
       "<style scoped>\n",
       "    .dataframe tbody tr th:only-of-type {\n",
       "        vertical-align: middle;\n",
       "    }\n",
       "\n",
       "    .dataframe tbody tr th {\n",
       "        vertical-align: top;\n",
       "    }\n",
       "\n",
       "    .dataframe thead th {\n",
       "        text-align: right;\n",
       "    }\n",
       "</style>\n",
       "<table border=\"1\" class=\"dataframe\">\n",
       "  <thead>\n",
       "    <tr style=\"text-align: right;\">\n",
       "      <th></th>\n",
       "      <th>SessionID</th>\n",
       "      <th>TIMESTAMP</th>\n",
       "      <th>Activity</th>\n",
       "    </tr>\n",
       "  </thead>\n",
       "  <tbody>\n",
       "    <tr>\n",
       "      <th>3273278</th>\n",
       "      <td>46</td>\n",
       "      <td>2015-11-06 08:07:22.780</td>\n",
       "      <td>/werk_nl/werknemer/mijn_werkmap/doorgeven/taken</td>\n",
       "    </tr>\n",
       "    <tr>\n",
       "      <th>5333642</th>\n",
       "      <td>46</td>\n",
       "      <td>2015-11-06 08:07:40.767</td>\n",
       "      <td>/werk_nl/werknemer/mijn_werkmap/doorgeven/mijn...</td>\n",
       "    </tr>\n",
       "    <tr>\n",
       "      <th>3733243</th>\n",
       "      <td>46</td>\n",
       "      <td>2015-11-06 08:07:51.390</td>\n",
       "      <td>/werk_nl/werknemer/mijn_werkmap/postvak/mijn_d...</td>\n",
       "    </tr>\n",
       "    <tr>\n",
       "      <th>5904405</th>\n",
       "      <td>46</td>\n",
       "      <td>2015-11-06 08:08:06.003</td>\n",
       "      <td>/werk_nl/werknemer/mijn_werkmap/postvak/mijn_b...</td>\n",
       "    </tr>\n",
       "    <tr>\n",
       "      <th>5573282</th>\n",
       "      <td>46</td>\n",
       "      <td>2015-11-06 08:08:19.343</td>\n",
       "      <td>/werk_nl/werknemer/mijn_werkmap/postvak/mijn_b...</td>\n",
       "    </tr>\n",
       "  </tbody>\n",
       "</table>\n",
       "</div>"
      ],
      "text/plain": [
       "         SessionID               TIMESTAMP  \\\n",
       "3273278         46 2015-11-06 08:07:22.780   \n",
       "5333642         46 2015-11-06 08:07:40.767   \n",
       "3733243         46 2015-11-06 08:07:51.390   \n",
       "5904405         46 2015-11-06 08:08:06.003   \n",
       "5573282         46 2015-11-06 08:08:19.343   \n",
       "\n",
       "                                                  Activity  \n",
       "3273278    /werk_nl/werknemer/mijn_werkmap/doorgeven/taken  \n",
       "5333642  /werk_nl/werknemer/mijn_werkmap/doorgeven/mijn...  \n",
       "3733243  /werk_nl/werknemer/mijn_werkmap/postvak/mijn_d...  \n",
       "5904405  /werk_nl/werknemer/mijn_werkmap/postvak/mijn_b...  \n",
       "5573282  /werk_nl/werknemer/mijn_werkmap/postvak/mijn_b...  "
      ]
     },
     "execution_count": 2,
     "metadata": {},
     "output_type": "execute_result"
    }
   ],
   "source": [
    "# base_df = pd.read_csv(\"../no_repeated.csv\", encoding_errors=\"ignore\", on_bad_lines='skip', sep=\",\",)\n",
    "base_df = pd.read_csv(\"../BPI2016_Clicks_Logged_In.csv\", encoding_errors=\"ignore\", on_bad_lines='skip', sep=\";\",usecols=['SessionID', 'TIMESTAMP', 'URL_FILE', ])\n",
    "base_df.rename(columns={'URL_FILE':'Activity'}, inplace=True)\n",
    "base_df[\"TIMESTAMP\"] = pd.to_datetime(base_df[\"TIMESTAMP\"], infer_datetime_format=True)\n",
    "base_df = base_df.sort_values([\"SessionID\", \"TIMESTAMP\"])\n",
    "base_df.head()"
   ]
  },
  {
   "cell_type": "code",
   "execution_count": 3,
   "metadata": {},
   "outputs": [],
   "source": [
    "# Helper functions\n",
    "def create_df_for_pivot(_df: pd.DataFrame):\n",
    "  df = _df.copy()\n",
    "  #Create consecutive column with the consecutive activity and count how many time each pair occurs\n",
    "  df[\"Consecutive_1\"] = df.groupby(\"SessionID\")[\"Activity\"].shift(periods=-1)\n",
    "\n",
    "  #Count all the pairs and safe in new DataFrame\n",
    "  df_for_pivot_1 = pd.DataFrame(Counter(list(zip(df['Activity'], df['Consecutive_1'],))), index=[\"value\"]).T.reset_index()\n",
    "\n",
    "  df_for_pivot_1.fillna(\"end_session\", inplace=True)\n",
    "  return df_for_pivot_1\n",
    "  \n",
    "  \n",
    "def make_pivot(_df, index_names, column_names):\n",
    "  df = _df.copy()\n",
    "  \"\"\"\n",
    "  Functions that takes in a DataFrame and returns a pivot table with all the chances\n",
    "  \n",
    "  Create pivot table where chances are calculated that each row is succeded by activity that is represented in the column\n",
    "  \"\"\"\n",
    "  df_chances = df.pivot_table(index=index_names, columns=column_names, values='value')\n",
    "  \n",
    "  #Calculate what the probabilities are by summing the row and dividing all the values in the row by total sum of the row\n",
    "  df_chances[\"total_row_count\"] = df_chances.sum(axis=1)\n",
    "  df_chances = df_chances.div(df_chances[\"total_row_count\"], axis=0)\n",
    "  \n",
    "  df_chances.fillna(0, inplace=True)\n",
    "  df_chances.drop(\"total_row_count\", axis=1, inplace=True)\n",
    "\n",
    "  return df_chances\n",
    "\n",
    "def calculate_paths_in_sessions(_df:pd.DataFrame,paths:list[str]) -> tuple[int,int]:\n",
    "  # this function calculates in how many sessions a path is present\n",
    "  # a path is a series of transitions\n",
    "  # a transition is two consecutive activities where the 2 activities are not the same\n",
    "  # we return a tuple where the first value is the total amount of times the path is found and\n",
    "  # the second value is the total amount of sessions where the path is found\n",
    "  # group the dataframe by session id\n",
    "  df = _df.copy()\n",
    "  # create a new column that contains the consecutive activity\n",
    "  df[\"Consecutive_1\"] = df.groupby(\"SessionID\")[\"Activity\"].shift(periods=-1)\n",
    "  # if the consecutive activity is the same as the current activity, remove the row\n",
    "  # this is done because we only want to count transitions\n",
    "  df = df[df[\"Activity\"] != df[\"Consecutive_1\"]]\n",
    "  # remove the consecutive activity column\n",
    "  df = df.drop(\"Consecutive_1\", axis=1)\n",
    "  # get the length of the path\n",
    "  len_path = len(paths)\n",
    "  # create a column for len_path - 1 consecutive activities\n",
    "  df = df.assign(**{f\"Activity_{i}\": df.groupby(\"SessionID\")[\"Activity\"].shift(periods=-i) for i in range(1, len_path)})\n",
    "  # change name of Activiy column to Activity_0\n",
    "  df.rename(columns={'Activity':'Activity_0'}, inplace=True)\n",
    "  # create a column \"Found\" that contains True if the path is found in the session\n",
    "  df['Found'] = df.apply(lambda row: all(row[f\"Activity_{i}\"] == paths[i] for i in range(len_path)), axis=1)\n",
    "  total = df['Found'].sum()\n",
    "  sessions = df[df['Found'] == True]['SessionID'].nunique()\n",
    "  return total,sessions\n",
    "\n",
    "\n",
    "def all_paths_len_x(_df:pd.DataFrame,len):\n",
    "  df = _df.copy()\n",
    "  df[\"Consecutive_1\"] = df.groupby(\"SessionID\")[\"Activity\"].shift(periods=-1)\n",
    "  # if the consecutive activity is the same as the current activity, remove the row\n",
    "  # this is done because we only want to count transitions\n",
    "  df = df[df[\"Activity\"] != df[\"Consecutive_1\"]]\n",
    "  # remove the consecutive activity column\n",
    "  df = df.drop(\"Consecutive_1\", axis=1)\n",
    "  # create a column for len_path - 1 consecutive activities\n",
    "  df = df.assign(**{f\"Activity_{i}\": df.groupby(\"SessionID\")[\"Activity\"].shift(periods=-i) for i in range(1, len)})\n",
    "  # change name of Activiy column to Activity_0\n",
    "  df.rename(columns={'Activity':'Activity_0'}, inplace=True)\n",
    "  # create a column that counts the amount of times the path is found\n",
    "  df = df.groupby([f\"Activity_{i}\" for i in range(len)]).size().reset_index(name='count')\n",
    "  total_count = df['count'].sum()\n",
    "  df['probability'] = df['count'] / total_count\n",
    "  return df\n",
    "  \n",
    "  \n",
    "\n",
    "def activity_prob_df(_df:pd.DataFrame) -> pd.DataFrame:\n",
    "  # group the dataframe by activity and count the number of times each activity occurs\n",
    "  df = _df.copy()\n",
    "  total_amount_of_activities = df['Activity'].count()\n",
    "  # create df where each row contains the activity with columns: Activity, Count, Probability\n",
    "  final_df = df.groupby('Activity').count().reset_index()\n",
    "  # Drop column Timestamp\n",
    "  final_df = final_df.drop('TIMESTAMP', axis=1)\n",
    "  # change SessionID column name to Count\n",
    "  final_df.rename(columns={'SessionID':'Count'}, inplace=True)\n",
    "  # create Probability column\n",
    "  final_df = final_df.assign(Probability=final_df['Count']/total_amount_of_activities * 100)\n",
    "  \n",
    "  return final_df.sort_values('Probability', ascending=False)\n",
    "  \n"
   ]
  },
  {
   "cell_type": "code",
   "execution_count": 4,
   "metadata": {},
   "outputs": [],
   "source": [
    "# Create df for pivot\n",
    "df_for_pivot = create_df_for_pivot(base_df)\n",
    "df_chances_1 = make_pivot(df_for_pivot, \"level_0\", \"level_1\")\n",
    "\n",
    "#Calculate the probability of each activity that it is the first activity performed in the session\n",
    "df_chances_1[\"start_session_chance\"] = base_df.groupby(\"SessionID\").nth(0)[\"Activity\"].value_counts() / base_df.groupby(\"SessionID\").nth(0)[\"Activity\"].value_counts().sum()\n",
    "df_chances_1.fillna(0, inplace=True)\n",
    "\n",
    "df_chances_total = df_chances_1 \n",
    "df_chances_total\n",
    "\n",
    "#Split the start probabilities from the normal DataFrame\n",
    "start_chances = df_chances_total[\"start_session_chance\"][df_chances_total[\"start_session_chance\"] > 0]\n",
    "\n",
    "#Create df with all chances except the starting chance.\n",
    "final_df = df_chances_total.iloc[:, :-1]\n",
    "final_df\n",
    "probability_matrix = final_df.copy()"
   ]
  },
  {
   "cell_type": "code",
   "execution_count": 5,
   "metadata": {},
   "outputs": [],
   "source": [
    "paths_len_3 = all_paths_len_x(base_df,3)\n"
   ]
  },
  {
   "cell_type": "code",
   "execution_count": 6,
   "metadata": {},
   "outputs": [],
   "source": [
    "work_df = paths_len_3.copy()"
   ]
  },
  {
   "cell_type": "code",
   "execution_count": 7,
   "metadata": {},
   "outputs": [],
   "source": [
    "# Create a column a->c\n",
    "work_df[\"a->c\"] = work_df[\"Activity_0\"] + \"->\" + work_df[\"Activity_2\"]\n",
    "work_df.rename(columns={'count':'a-b-c'}, inplace=True)\n",
    "# count how many times a->c occurs\n",
    "work_df['a-c-count'] = work_df.groupby('a->c')['a->c'].transform('count')\n",
    "work_df = work_df[work_df['Activity_0'] != work_df['Activity_2']]\n",
    "work_df = work_df.sort_values(['a-c-count','a-b-c'], ascending=False)\n",
    "#  create df maybe patterns with the rows where a-b-c < 5 and a-c-count > 100\n",
    "maybe_patterns = work_df[(work_df['a-b-c'] < 2) & (work_df['a-c-count'] > 120)]"
   ]
  },
  {
   "cell_type": "code",
   "execution_count": 8,
   "metadata": {},
   "outputs": [
    {
     "name": "stderr",
     "output_type": "stream",
     "text": [
      "C:\\Users\\krdeg\\AppData\\Local\\Temp\\ipykernel_25132\\4147738760.py:6: SettingWithCopyWarning: \n",
      "A value is trying to be set on a copy of a slice from a DataFrame.\n",
      "Try using .loc[row_indexer,col_indexer] = value instead\n",
      "\n",
      "See the caveats in the documentation: https://pandas.pydata.org/pandas-docs/stable/user_guide/indexing.html#returning-a-view-versus-a-copy\n",
      "  maybe_patterns['replace'] = maybe_patterns['a->c'].apply(lambda x: work_df[work_df['a->c'] == x].head(3)['Activity_1'].tolist())\n"
     ]
    },
    {
     "data": {
      "text/plain": [
       "array(['/werk_nl/werknemer/mijn_werkmap/doorgeven/taken->/werk_nl/werknemer/home',\n",
       "       '/werk_nl/werknemer/mijn_werkmap/postvak/mijn_berichten->/werk_nl/werknemer/home'],\n",
       "      dtype=object)"
      ]
     },
     "execution_count": 8,
     "metadata": {},
     "output_type": "execute_result"
    }
   ],
   "source": [
    "#  get the unique values of a->c from maybe_patterns\n",
    "a_c_uni = maybe_patterns['a->c'].unique()\n",
    "a_c_df = pd.DataFrame(a_c_uni, columns=['a->c'])\n",
    "\n",
    "# create column replace that contains a list of the 3 highest count of a->c from work_df\n",
    "maybe_patterns['replace'] = maybe_patterns['a->c'].apply(lambda x: work_df[work_df['a->c'] == x].head(3)['Activity_1'].tolist())\n",
    "maybe_patterns\n",
    "# get unique values of a->c from maybe_patterns\n",
    "uni_a_c = maybe_patterns['a->c'].unique()\n",
    "uni_a_c"
   ]
  },
  {
   "cell_type": "code",
   "execution_count": 9,
   "metadata": {},
   "outputs": [
    {
     "data": {
      "text/html": [
       "<div>\n",
       "<style scoped>\n",
       "    .dataframe tbody tr th:only-of-type {\n",
       "        vertical-align: middle;\n",
       "    }\n",
       "\n",
       "    .dataframe tbody tr th {\n",
       "        vertical-align: top;\n",
       "    }\n",
       "\n",
       "    .dataframe thead th {\n",
       "        text-align: right;\n",
       "    }\n",
       "</style>\n",
       "<table border=\"1\" class=\"dataframe\">\n",
       "  <thead>\n",
       "    <tr style=\"text-align: right;\">\n",
       "      <th></th>\n",
       "      <th>Activity_0</th>\n",
       "      <th>Activity_1</th>\n",
       "      <th>Activity_2</th>\n",
       "      <th>replace</th>\n",
       "    </tr>\n",
       "  </thead>\n",
       "  <tbody>\n",
       "    <tr>\n",
       "      <th>23186</th>\n",
       "      <td>/werk_nl/werknemer/mijn_werkmap/doorgeven/taken</td>\n",
       "      <td>//werk_nl/werknemer/home</td>\n",
       "      <td>/werk_nl/werknemer/home</td>\n",
       "      <td>[/werk_nl/werknemer/mijn_werkmap/doorgeven/mij...</td>\n",
       "    </tr>\n",
       "    <tr>\n",
       "      <th>23315</th>\n",
       "      <td>/werk_nl/werknemer/mijn_werkmap/doorgeven/taken</td>\n",
       "      <td>/portal/page/portal/werk_nl/werknemer/contact</td>\n",
       "      <td>/werk_nl/werknemer/home</td>\n",
       "      <td>[/werk_nl/werknemer/mijn_werkmap/doorgeven/mij...</td>\n",
       "    </tr>\n",
       "    <tr>\n",
       "      <th>23318</th>\n",
       "      <td>/werk_nl/werknemer/mijn_werkmap/doorgeven/taken</td>\n",
       "      <td>/portal/page/portal/werk_nl/werknemer/eintake/...</td>\n",
       "      <td>/werk_nl/werknemer/home</td>\n",
       "      <td>[/werk_nl/werknemer/mijn_werkmap/doorgeven/mij...</td>\n",
       "    </tr>\n",
       "    <tr>\n",
       "      <th>23360</th>\n",
       "      <td>/werk_nl/werknemer/mijn_werkmap/doorgeven/taken</td>\n",
       "      <td>/portal/page/portal/werk_nl/werknemer/over-wer...</td>\n",
       "      <td>/werk_nl/werknemer/home</td>\n",
       "      <td>[/werk_nl/werknemer/mijn_werkmap/doorgeven/mij...</td>\n",
       "    </tr>\n",
       "    <tr>\n",
       "      <th>23365</th>\n",
       "      <td>/werk_nl/werknemer/mijn_werkmap/doorgeven/taken</td>\n",
       "      <td>/portal/page/portal/werk_nl/werknemer/over-wer...</td>\n",
       "      <td>/werk_nl/werknemer/home</td>\n",
       "      <td>[/werk_nl/werknemer/mijn_werkmap/doorgeven/mij...</td>\n",
       "    </tr>\n",
       "    <tr>\n",
       "      <th>...</th>\n",
       "      <td>...</td>\n",
       "      <td>...</td>\n",
       "      <td>...</td>\n",
       "      <td>...</td>\n",
       "    </tr>\n",
       "    <tr>\n",
       "      <th>34383</th>\n",
       "      <td>/werk_nl/werknemer/mijn_werkmap/postvak/mijn_b...</td>\n",
       "      <td>/xpsimage/wdo_014521</td>\n",
       "      <td>/werk_nl/werknemer/home</td>\n",
       "      <td>[/werk_nl/werknemer/mijn_werkmap/doorgeven/tak...</td>\n",
       "    </tr>\n",
       "    <tr>\n",
       "      <th>34407</th>\n",
       "      <td>/werk_nl/werknemer/mijn_werkmap/postvak/mijn_b...</td>\n",
       "      <td>/xpsitem/wdo212424</td>\n",
       "      <td>/werk_nl/werknemer/home</td>\n",
       "      <td>[/werk_nl/werknemer/mijn_werkmap/doorgeven/tak...</td>\n",
       "    </tr>\n",
       "    <tr>\n",
       "      <th>34409</th>\n",
       "      <td>/werk_nl/werknemer/mijn_werkmap/postvak/mijn_b...</td>\n",
       "      <td>/xpsitem/wdo_013142</td>\n",
       "      <td>/werk_nl/werknemer/home</td>\n",
       "      <td>[/werk_nl/werknemer/mijn_werkmap/doorgeven/tak...</td>\n",
       "    </tr>\n",
       "    <tr>\n",
       "      <th>34418</th>\n",
       "      <td>/werk_nl/werknemer/mijn_werkmap/postvak/mijn_b...</td>\n",
       "      <td>/zoeken_portlet/ajax/addVacatureToGereageerd</td>\n",
       "      <td>/werk_nl/werknemer/home</td>\n",
       "      <td>[/werk_nl/werknemer/mijn_werkmap/doorgeven/tak...</td>\n",
       "    </tr>\n",
       "    <tr>\n",
       "      <th>34419</th>\n",
       "      <td>/werk_nl/werknemer/mijn_werkmap/postvak/mijn_b...</td>\n",
       "      <td>/zoeken_portlet/ajax/zoekAantalIndicatief</td>\n",
       "      <td>/werk_nl/werknemer/home</td>\n",
       "      <td>[/werk_nl/werknemer/mijn_werkmap/doorgeven/tak...</td>\n",
       "    </tr>\n",
       "  </tbody>\n",
       "</table>\n",
       "<p>91 rows × 4 columns</p>\n",
       "</div>"
      ],
      "text/plain": [
       "                                              Activity_0  \\\n",
       "23186    /werk_nl/werknemer/mijn_werkmap/doorgeven/taken   \n",
       "23315    /werk_nl/werknemer/mijn_werkmap/doorgeven/taken   \n",
       "23318    /werk_nl/werknemer/mijn_werkmap/doorgeven/taken   \n",
       "23360    /werk_nl/werknemer/mijn_werkmap/doorgeven/taken   \n",
       "23365    /werk_nl/werknemer/mijn_werkmap/doorgeven/taken   \n",
       "...                                                  ...   \n",
       "34383  /werk_nl/werknemer/mijn_werkmap/postvak/mijn_b...   \n",
       "34407  /werk_nl/werknemer/mijn_werkmap/postvak/mijn_b...   \n",
       "34409  /werk_nl/werknemer/mijn_werkmap/postvak/mijn_b...   \n",
       "34418  /werk_nl/werknemer/mijn_werkmap/postvak/mijn_b...   \n",
       "34419  /werk_nl/werknemer/mijn_werkmap/postvak/mijn_b...   \n",
       "\n",
       "                                              Activity_1  \\\n",
       "23186                           //werk_nl/werknemer/home   \n",
       "23315      /portal/page/portal/werk_nl/werknemer/contact   \n",
       "23318  /portal/page/portal/werk_nl/werknemer/eintake/...   \n",
       "23360  /portal/page/portal/werk_nl/werknemer/over-wer...   \n",
       "23365  /portal/page/portal/werk_nl/werknemer/over-wer...   \n",
       "...                                                  ...   \n",
       "34383                               /xpsimage/wdo_014521   \n",
       "34407                                 /xpsitem/wdo212424   \n",
       "34409                                /xpsitem/wdo_013142   \n",
       "34418       /zoeken_portlet/ajax/addVacatureToGereageerd   \n",
       "34419          /zoeken_portlet/ajax/zoekAantalIndicatief   \n",
       "\n",
       "                    Activity_2  \\\n",
       "23186  /werk_nl/werknemer/home   \n",
       "23315  /werk_nl/werknemer/home   \n",
       "23318  /werk_nl/werknemer/home   \n",
       "23360  /werk_nl/werknemer/home   \n",
       "23365  /werk_nl/werknemer/home   \n",
       "...                        ...   \n",
       "34383  /werk_nl/werknemer/home   \n",
       "34407  /werk_nl/werknemer/home   \n",
       "34409  /werk_nl/werknemer/home   \n",
       "34418  /werk_nl/werknemer/home   \n",
       "34419  /werk_nl/werknemer/home   \n",
       "\n",
       "                                                 replace  \n",
       "23186  [/werk_nl/werknemer/mijn_werkmap/doorgeven/mij...  \n",
       "23315  [/werk_nl/werknemer/mijn_werkmap/doorgeven/mij...  \n",
       "23318  [/werk_nl/werknemer/mijn_werkmap/doorgeven/mij...  \n",
       "23360  [/werk_nl/werknemer/mijn_werkmap/doorgeven/mij...  \n",
       "23365  [/werk_nl/werknemer/mijn_werkmap/doorgeven/mij...  \n",
       "...                                                  ...  \n",
       "34383  [/werk_nl/werknemer/mijn_werkmap/doorgeven/tak...  \n",
       "34407  [/werk_nl/werknemer/mijn_werkmap/doorgeven/tak...  \n",
       "34409  [/werk_nl/werknemer/mijn_werkmap/doorgeven/tak...  \n",
       "34418  [/werk_nl/werknemer/mijn_werkmap/doorgeven/tak...  \n",
       "34419  [/werk_nl/werknemer/mijn_werkmap/doorgeven/tak...  \n",
       "\n",
       "[91 rows x 4 columns]"
      ]
     },
     "execution_count": 9,
     "metadata": {},
     "output_type": "execute_result"
    }
   ],
   "source": [
    "patterns = maybe_patterns.copy()\n",
    "# drop columns a-b-c probability a-c-count a->c\n",
    "patterns = patterns.drop(['a-b-c','probability','a-c-count','a->c'], axis=1)\n",
    "uniq_a = patterns['Activity_2'].unique()\n",
    "patterns"
   ]
  },
  {
   "cell_type": "markdown",
   "metadata": {},
   "source": [
    "A session is anomalous if there is a transition Activity_0 -> Activity_1 -> Activity_2"
   ]
  },
  {
   "cell_type": "code",
   "execution_count": 10,
   "metadata": {},
   "outputs": [],
   "source": [
    "def label_sessions(_df:pd.DataFrame, _patterns:pd.DataFrame) -> list[int]:\n",
    "  df = _df.copy()\n",
    "  patterns = _patterns.copy()\n",
    "  # create consecutive_1 and consecutive_2 columns\n",
    "  df['consecutive_1'] = df.groupby('SessionID')['Activity'].shift(periods=-1).fillna('end')\n",
    "  # drop rows where Activity == consecutive_1\n",
    "  df = df[df['Activity'] != df['consecutive_1']]\n",
    "  df['consecutive_2'] = df.groupby('SessionID')['Activity'].shift(periods=-2).fillna('end')\n",
    "  \n",
    "  merged = pd.merge(df, patterns, left_on=['Activity','consecutive_1','consecutive_2'], right_on=['Activity_0','Activity_1','Activity_2'], how='inner',indicator='Anomaly')\n",
    "  merged['Anomaly'] = np.where(merged.Anomaly == 'both', True, False)\n",
    "  \n",
    "  anomalous_session = merged[merged['Anomaly'] == True]\n",
    "  # create a list with all SessionIDs that have an anomaly\n",
    "  anomaly_sessions = anomalous_session['SessionID'].unique()\n",
    "  \n",
    "  return anomaly_sessions"
   ]
  },
  {
   "cell_type": "code",
   "execution_count": 11,
   "metadata": {},
   "outputs": [
    {
     "name": "stdout",
     "output_type": "stream",
     "text": [
      "[ 1563214  1563748  2009843  2164924  3857794  5083131  5261268  5706837\n",
      "  7104669  7467278  7661136  9066187  9353495  9422897 10087017 10427261\n",
      " 11162910 11196944 11422582 12100185 12484676 14428843 14685509 14845137\n",
      " 15963234 16102568 16644247 16680330 17135049 17307904 17933910 18133772\n",
      " 20541787 20770933 21314355 22129304 22189735 22776487 23704865 24124045\n",
      " 25356592 28738492 29296715 33395489 33788706 35156887 35660983 35677805\n",
      " 36382646 36699905 37529855 37565367 37581361 38270377 38339524 38377127\n",
      " 38890920 39132798 39502182 39524098 40761809 40777068 41021741 41162060\n",
      " 41496946 41680367 41940114 42830571 42897415 43299910 45083723 46198574\n",
      " 46336030 46528348 46658644 46951123 47471031 47615131 47855937 48337625\n",
      " 49161707 49355033 50276849 50557986 50596927 51539690 52144141 52413316\n",
      " 52794414 53071927 53723406]\n"
     ]
    }
   ],
   "source": [
    "anomaly_session_id = label_sessions(base_df, patterns)\n",
    "\n",
    "print(anomaly_session_id)"
   ]
  },
  {
   "cell_type": "code",
   "execution_count": 12,
   "metadata": {},
   "outputs": [
    {
     "data": {
      "text/plain": [
       "91"
      ]
     },
     "execution_count": 12,
     "metadata": {},
     "output_type": "execute_result"
    }
   ],
   "source": [
    "len(anomaly_session_id)"
   ]
  },
  {
   "cell_type": "code",
   "execution_count": 13,
   "metadata": {},
   "outputs": [
    {
     "name": "stdout",
     "output_type": "stream",
     "text": [
      "done\n"
     ]
    }
   ],
   "source": [
    "import random\n",
    "\n",
    "\n",
    "def label_80(ids:list[int]) -> list[int]:\n",
    "  sample = random.sample(ids,k=int(0.8*len(ids)))\n",
    "  return sample\n",
    "\n",
    "sample = label_80(list(anomaly_session_id))\n",
    "len(sample)\n",
    "  \n",
    "labeled_sample = base_df.copy()\n",
    "labeled_sample[\"anomaly\"] = labeled_sample[\"SessionID\"].apply(lambda x: x in sample)\n",
    "print('done')\n",
    "labeled_sample.to_csv(f\"./labeled_data/Replaced_Sample.csv\",index=False)"
   ]
  },
  {
   "cell_type": "code",
   "execution_count": 14,
   "metadata": {},
   "outputs": [],
   "source": [
    "# # create a new column in the base_df to indicate if the session is anomalous\n",
    "# # if a session is anomalous it will have a True in the column else False\n",
    "# labeled_df = base_df.copy()\n",
    "# labeled_df[\"anomaly\"] = base_df[\"SessionID\"].apply(lambda x: x in anomaly_session_id)"
   ]
  },
  {
   "cell_type": "code",
   "execution_count": 15,
   "metadata": {},
   "outputs": [],
   "source": [
    "# # save in csv\n",
    "# labeled_df.to_csv(f\"./labeled_data/Replaced.csv\",index=False)\n",
    "# patterns.to_csv(f\"./gen_patterns/Replaced.csv\",index=False)"
   ]
  }
 ],
 "metadata": {
  "kernelspec": {
   "display_name": "Python 3.10.4 64-bit",
   "language": "python",
   "name": "python3"
  },
  "language_info": {
   "codemirror_mode": {
    "name": "ipython",
    "version": 3
   },
   "file_extension": ".py",
   "mimetype": "text/x-python",
   "name": "python",
   "nbconvert_exporter": "python",
   "pygments_lexer": "ipython3",
   "version": "3.10.4"
  },
  "orig_nbformat": 4,
  "vscode": {
   "interpreter": {
    "hash": "369f2c481f4da34e4445cda3fffd2e751bd1c4d706f27375911949ba6bb62e1c"
   }
  }
 },
 "nbformat": 4,
 "nbformat_minor": 2
}
