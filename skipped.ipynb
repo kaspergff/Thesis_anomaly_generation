{
 "cells": [
  {
   "cell_type": "code",
   "execution_count": 6,
   "metadata": {},
   "outputs": [],
   "source": [
    "import pandas as pd\n",
    "from collections import Counter\n",
    "import numpy as np\n",
    "\n",
    "df = pd.read_csv(\"fake_data.csv\", encoding_errors=\"ignore\", on_bad_lines='skip', sep=\",\",)"
   ]
  },
  {
   "cell_type": "code",
   "execution_count": 7,
   "metadata": {},
   "outputs": [],
   "source": [
    "df[\"TIMESTAMP\"] = pd.to_datetime(df[\"TIMESTAMP\"], infer_datetime_format=True)\n",
    "df = df.sort_values([\"SessionID\", \"TIMESTAMP\"])"
   ]
  },
  {
   "cell_type": "code",
   "execution_count": 9,
   "metadata": {},
   "outputs": [
    {
     "data": {
      "text/html": [
       "<div>\n",
       "<style scoped>\n",
       "    .dataframe tbody tr th:only-of-type {\n",
       "        vertical-align: middle;\n",
       "    }\n",
       "\n",
       "    .dataframe tbody tr th {\n",
       "        vertical-align: top;\n",
       "    }\n",
       "\n",
       "    .dataframe thead th {\n",
       "        text-align: right;\n",
       "    }\n",
       "</style>\n",
       "<table border=\"1\" class=\"dataframe\">\n",
       "  <thead>\n",
       "    <tr style=\"text-align: right;\">\n",
       "      <th></th>\n",
       "      <th>level_0</th>\n",
       "      <th>level_1</th>\n",
       "      <th>value</th>\n",
       "    </tr>\n",
       "  </thead>\n",
       "  <tbody>\n",
       "    <tr>\n",
       "      <th>0</th>\n",
       "      <td>Start_application</td>\n",
       "      <td>Input_info</td>\n",
       "      <td>2</td>\n",
       "    </tr>\n",
       "    <tr>\n",
       "      <th>1</th>\n",
       "      <td>Input_info</td>\n",
       "      <td>Send_application</td>\n",
       "      <td>2</td>\n",
       "    </tr>\n",
       "    <tr>\n",
       "      <th>2</th>\n",
       "      <td>Send_application</td>\n",
       "      <td>Accept_offer</td>\n",
       "      <td>3</td>\n",
       "    </tr>\n",
       "    <tr>\n",
       "      <th>3</th>\n",
       "      <td>Accept_offer</td>\n",
       "      <td>end_session</td>\n",
       "      <td>4</td>\n",
       "    </tr>\n",
       "    <tr>\n",
       "      <th>4</th>\n",
       "      <td>Input_info</td>\n",
       "      <td>end_session</td>\n",
       "      <td>1</td>\n",
       "    </tr>\n",
       "  </tbody>\n",
       "</table>\n",
       "</div>"
      ],
      "text/plain": [
       "             level_0           level_1  value\n",
       "0  Start_application        Input_info      2\n",
       "1         Input_info  Send_application      2\n",
       "2   Send_application      Accept_offer      3\n",
       "3       Accept_offer       end_session      4\n",
       "4         Input_info       end_session      1"
      ]
     },
     "execution_count": 9,
     "metadata": {},
     "output_type": "execute_result"
    }
   ],
   "source": [
    "#Create consecutive column with the consecutive activity and count how many time each pair occurs\n",
    "df[\"Consecutive_1\"] = df.groupby(\"SessionID\")[\"Activity\"].shift(periods=-1)\n",
    "\n",
    "#Count all the pairs and safe in new DataFrame\n",
    "df_for_pivot_1 = pd.DataFrame(Counter(list(zip(df['Activity'], df['Consecutive_1'],))), index=[\"value\"]).T.reset_index()\n",
    "\n",
    "df_for_pivot_1.fillna(\"end_session\", inplace=True)\n",
    "df_for_pivot_1"
   ]
  },
  {
   "cell_type": "code",
   "execution_count": 10,
   "metadata": {},
   "outputs": [],
   "source": [
    "def make_pivot(df, index_names, column_names):\n",
    "    \"\"\"\n",
    "    Functions that takes in a DataFrame and returns a pivot table with all the chances\n",
    "    \n",
    "    Create pivot table where chances are calculated that each row is succeded by activity that is represented in the column\n",
    "    \"\"\"\n",
    "    df_chances = df.pivot_table(index=index_names, columns=column_names, values='value')\n",
    "    \n",
    "    #Calculate what the probabilities are by summing the row and dividing all the values in the row by total sum of the row\n",
    "    df_chances[\"total_row_count\"] = df_chances.sum(axis=1)\n",
    "    df_chances = df_chances.div(df_chances[\"total_row_count\"], axis=0)\n",
    "    \n",
    "    df_chances.fillna(0, inplace=True)\n",
    "    df_chances.drop(\"total_row_count\", axis=1, inplace=True)\n",
    "\n",
    "    return df_chances"
   ]
  },
  {
   "cell_type": "code",
   "execution_count": 12,
   "metadata": {},
   "outputs": [],
   "source": [
    "df_chances_1 = make_pivot(df_for_pivot_1, \"level_0\", \"level_1\")\n",
    "\n",
    "#Calculate the probability of each activity that it is the first activity performed in the session\n",
    "df_chances_1[\"start_session_chance\"] = df.groupby(\"SessionID\").nth(0)[\"Activity\"].value_counts() / df.groupby(\"SessionID\").nth(0)[\"Activity\"].value_counts().sum()\n",
    "df_chances_1.fillna(0, inplace=True)"
   ]
  },
  {
   "cell_type": "code",
   "execution_count": 13,
   "metadata": {},
   "outputs": [],
   "source": [
    "df_chances_total = df_chances_1 \n",
    "\n",
    "#Split the start probabilities from the normal DataFrame\n",
    "start_chances = df_chances_total[\"start_session_chance\"][df_chances_total[\"start_session_chance\"] > 0]\n",
    "\n",
    "#Create df with all chances except the starting chance.\n",
    "df_chances_rest = df_chances_total.iloc[:, :-1]"
   ]
  },
  {
   "cell_type": "code",
   "execution_count": null,
   "metadata": {},
   "outputs": [],
   "source": [
    "df_chances_total"
   ]
  }
 ],
 "metadata": {
  "kernelspec": {
   "display_name": "Python 3.10.4 64-bit",
   "language": "python",
   "name": "python3"
  },
  "language_info": {
   "codemirror_mode": {
    "name": "ipython",
    "version": 3
   },
   "file_extension": ".py",
   "mimetype": "text/x-python",
   "name": "python",
   "nbconvert_exporter": "python",
   "pygments_lexer": "ipython3",
   "version": "3.10.4"
  },
  "orig_nbformat": 4,
  "vscode": {
   "interpreter": {
    "hash": "369f2c481f4da34e4445cda3fffd2e751bd1c4d706f27375911949ba6bb62e1c"
   }
  }
 },
 "nbformat": 4,
 "nbformat_minor": 2
}
