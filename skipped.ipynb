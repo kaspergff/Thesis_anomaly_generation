{
 "cells": [
  {
   "cell_type": "code",
   "execution_count": null,
   "metadata": {},
   "outputs": [],
   "source": [
    "import pandas as pd\n",
    "from collections import Counter\n",
    "import numpy as np\n",
    "\n",
    "# df = pd.read_csv(\"fake_data.csv\", encoding_errors=\"ignore\", on_bad_lines='skip', sep=\",\",)\n",
    "df = pd.read_csv(\"BPI2016_Clicks_Logged_In.csv\", encoding_errors=\"ignore\", on_bad_lines='skip', sep=\";\",\n",
    "                usecols=['CustomerID', 'AgeCategory', 'Gender', 'Office_U', 'Office_W',\n",
    "       'SessionID', 'IPID', 'TIMESTAMP', 'VHOST', 'URL_FILE', 'PAGE_NAME',\n",
    "       'REF_URL_category', 'page_load_error', 'page_action_detail', 'tip',\n",
    "       'service_detail', 'xps_info'])\n",
    "df.rename(columns={'URL_FILE':'Activity'}, inplace=True)"
   ]
  },
  {
   "cell_type": "code",
   "execution_count": null,
   "metadata": {},
   "outputs": [],
   "source": [
    "df[\"TIMESTAMP\"] = pd.to_datetime(df[\"TIMESTAMP\"], infer_datetime_format=True)\n",
    "df = df.sort_values([\"SessionID\", \"TIMESTAMP\"])"
   ]
  },
  {
   "cell_type": "code",
   "execution_count": null,
   "metadata": {},
   "outputs": [],
   "source": [
    "#Create consecutive column with the consecutive activity and count how many time each pair occurs\n",
    "df[\"Consecutive_1\"] = df.groupby(\"SessionID\")[\"Activity\"].shift(periods=-1)\n",
    "\n",
    "#Count all the pairs and safe in new DataFrame\n",
    "df_for_pivot_1 = pd.DataFrame(Counter(list(zip(df['Activity'], df['Consecutive_1'],))), index=[\"value\"]).T.reset_index()\n",
    "\n",
    "df_for_pivot_1.fillna(\"end_session\", inplace=True)\n",
    "df_for_pivot_1"
   ]
  },
  {
   "cell_type": "code",
   "execution_count": null,
   "metadata": {},
   "outputs": [],
   "source": [
    "def make_pivot(df, index_names, column_names):\n",
    "    \"\"\"\n",
    "    Functions that takes in a DataFrame and returns a pivot table with all the chances\n",
    "    \n",
    "    Create pivot table where chances are calculated that each row is succeded by activity that is represented in the column\n",
    "    \"\"\"\n",
    "    df_chances = df.pivot_table(index=index_names, columns=column_names, values='value')\n",
    "    \n",
    "    #Calculate what the probabilities are by summing the row and dividing all the values in the row by total sum of the row\n",
    "    df_chances[\"total_row_count\"] = df_chances.sum(axis=1)\n",
    "    df_chances = df_chances.div(df_chances[\"total_row_count\"], axis=0)\n",
    "    \n",
    "    df_chances.fillna(0, inplace=True)\n",
    "    df_chances.drop(\"total_row_count\", axis=1, inplace=True)\n",
    "\n",
    "    return df_chances"
   ]
  },
  {
   "cell_type": "code",
   "execution_count": null,
   "metadata": {},
   "outputs": [],
   "source": [
    "df_chances_1 = make_pivot(df_for_pivot_1, \"level_0\", \"level_1\")\n",
    "\n",
    "#Calculate the probability of each activity that it is the first activity performed in the session\n",
    "df_chances_1[\"start_session_chance\"] = df.groupby(\"SessionID\").nth(0)[\"Activity\"].value_counts() / df.groupby(\"SessionID\").nth(0)[\"Activity\"].value_counts().sum()\n",
    "df_chances_1.fillna(0, inplace=True)"
   ]
  },
  {
   "cell_type": "code",
   "execution_count": null,
   "metadata": {},
   "outputs": [],
   "source": [
    "df_chances_total = df_chances_1 \n",
    "\n",
    "#Split the start probabilities from the normal DataFrame\n",
    "start_chances = df_chances_total[\"start_session_chance\"][df_chances_total[\"start_session_chance\"] > 0]\n",
    "\n",
    "#Create df with all chances except the starting chance.\n",
    "df_chances_rest = df_chances_total.iloc[:, :-1]"
   ]
  },
  {
   "cell_type": "code",
   "execution_count": null,
   "metadata": {},
   "outputs": [],
   "source": [
    "df_chances_rest"
   ]
  },
  {
   "cell_type": "markdown",
   "metadata": {},
   "source": [
    "Try to find paths of length 3.\n",
    "A - B - C\n",
    "Sort on chance. \n",
    "So chance a to b * b to c "
   ]
  },
  {
   "cell_type": "code",
   "execution_count": null,
   "metadata": {},
   "outputs": [],
   "source": [
    "def find_paths(_df:pd.DataFrame,len:int = 3):\n",
    "  df = _df.copy()\n",
    "  col = df.columns.values\n",
    "  row  = df.index.values\n",
    "  s  = row.size\n",
    "  res = []\n",
    "  while s > 0:\n",
    "    current_row = df.iloc[row.size - s]\n",
    "    i = 0\n",
    "    while i < current_row.size:\n",
    "      current_col = df.columns[i]\n",
    "      chance = current_row.iloc[i]\n",
    "      if chance > 0:\n",
    "        a = current_row.name\n",
    "        b = current_col\n",
    "        c = []\n",
    "        if (df.index == b).any() :\n",
    "          _r = df.loc[b]\n",
    "          index = 0\n",
    "          for r in _r:\n",
    "            if r > 0:\n",
    "              res.append([a,b,col.item(index),r*chance])  \n",
    "            index += 1        \n",
    "            \n",
    "      i += 1\n",
    "    s -= 1\n",
    "\n",
    "  return res\n",
    "\n",
    "\n",
    "paths = find_paths(df_chances_rest)"
   ]
  },
  {
   "cell_type": "code",
   "execution_count": null,
   "metadata": {},
   "outputs": [],
   "source": [
    "print(paths)"
   ]
  }
 ],
 "metadata": {
  "kernelspec": {
   "display_name": "Python 3.10.4 64-bit",
   "language": "python",
   "name": "python3"
  },
  "language_info": {
   "codemirror_mode": {
    "name": "ipython",
    "version": 3
   },
   "file_extension": ".py",
   "mimetype": "text/x-python",
   "name": "python",
   "nbconvert_exporter": "python",
   "pygments_lexer": "ipython3",
   "version": "3.10.4"
  },
  "orig_nbformat": 4,
  "vscode": {
   "interpreter": {
    "hash": "369f2c481f4da34e4445cda3fffd2e751bd1c4d706f27375911949ba6bb62e1c"
   }
  }
 },
 "nbformat": 4,
 "nbformat_minor": 2
}
