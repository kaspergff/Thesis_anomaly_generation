{
 "cells": [
  {
   "cell_type": "code",
   "execution_count": 1,
   "id": "75014eba",
   "metadata": {},
   "outputs": [
    {
     "name": "stderr",
     "output_type": "stream",
     "text": [
      "C:\\Users\\krdeg\\AppData\\Local\\Temp\\ipykernel_56968\\3643350991.py:6: DtypeWarning: Columns (11,13,14,15,16) have mixed types. Specify dtype option on import or set low_memory=False.\n",
      "  df = pd.read_csv(\"../BPI2016_Clicks_Logged_In.csv\", encoding_errors=\"ignore\", on_bad_lines='skip', sep=\";\",\n"
     ]
    }
   ],
   "source": [
    "import pandas as pd\n",
    "from collections import Counter\n",
    "import numpy as np\n",
    "import matplotlib.pyplot as plt\n",
    "\n",
    "df = pd.read_csv(\"../BPI2016_Clicks_Logged_In.csv\", encoding_errors=\"ignore\", on_bad_lines='skip', sep=\";\",\n",
    "                usecols=['CustomerID', 'AgeCategory', 'Gender', 'Office_U', 'Office_W',\n",
    "       'SessionID', 'IPID', 'TIMESTAMP', 'VHOST', 'URL_FILE', 'PAGE_NAME',\n",
    "       'REF_URL_category', 'page_load_error', 'page_action_detail', 'tip',\n",
    "       'service_detail', 'xps_info'])\n",
    "df[\"TIMESTAMP\"] = pd.to_datetime(df[\"TIMESTAMP\"], infer_datetime_format=True)"
   ]
  },
  {
   "cell_type": "code",
   "execution_count": 2,
   "id": "a08bfbad",
   "metadata": {},
   "outputs": [
    {
     "data": {
      "text/html": [
       "<div>\n",
       "<style scoped>\n",
       "    .dataframe tbody tr th:only-of-type {\n",
       "        vertical-align: middle;\n",
       "    }\n",
       "\n",
       "    .dataframe tbody tr th {\n",
       "        vertical-align: top;\n",
       "    }\n",
       "\n",
       "    .dataframe thead th {\n",
       "        text-align: right;\n",
       "    }\n",
       "</style>\n",
       "<table border=\"1\" class=\"dataframe\">\n",
       "  <thead>\n",
       "    <tr style=\"text-align: right;\">\n",
       "      <th></th>\n",
       "      <th>CustomerID</th>\n",
       "      <th>AgeCategory</th>\n",
       "      <th>Gender</th>\n",
       "      <th>Office_U</th>\n",
       "      <th>Office_W</th>\n",
       "      <th>SessionID</th>\n",
       "      <th>IPID</th>\n",
       "      <th>TIMESTAMP</th>\n",
       "      <th>VHOST</th>\n",
       "      <th>URL_FILE</th>\n",
       "      <th>PAGE_NAME</th>\n",
       "      <th>REF_URL_category</th>\n",
       "      <th>page_load_error</th>\n",
       "      <th>page_action_detail</th>\n",
       "      <th>tip</th>\n",
       "      <th>service_detail</th>\n",
       "      <th>xps_info</th>\n",
       "    </tr>\n",
       "  </thead>\n",
       "  <tbody>\n",
       "    <tr>\n",
       "      <th>3271608</th>\n",
       "      <td>797444</td>\n",
       "      <td>50-65</td>\n",
       "      <td>M</td>\n",
       "      <td>238</td>\n",
       "      <td>238</td>\n",
       "      <td>10125891</td>\n",
       "      <td>99546</td>\n",
       "      <td>2015-07-01 02:36:59.713</td>\n",
       "      <td>digid.werk.nl</td>\n",
       "      <td>/werk_nl/werknemer/mijn_werkmap/postvak/mijn_b...</td>\n",
       "      <td>mijn_berichten</td>\n",
       "      <td>NaN</td>\n",
       "      <td>0</td>\n",
       "      <td>NaN</td>\n",
       "      <td>NaN</td>\n",
       "      <td>NaN</td>\n",
       "      <td>NaN</td>\n",
       "    </tr>\n",
       "    <tr>\n",
       "      <th>5687809</th>\n",
       "      <td>797444</td>\n",
       "      <td>50-65</td>\n",
       "      <td>M</td>\n",
       "      <td>238</td>\n",
       "      <td>238</td>\n",
       "      <td>10125891</td>\n",
       "      <td>99546</td>\n",
       "      <td>2015-07-01 02:37:13.210</td>\n",
       "      <td>digid.werk.nl</td>\n",
       "      <td>/werk_nl/werknemer/mijn_werkmap/werk-zoeken/mi...</td>\n",
       "      <td>mijn_cv</td>\n",
       "      <td>NaN</td>\n",
       "      <td>0</td>\n",
       "      <td>NaN</td>\n",
       "      <td>NaN</td>\n",
       "      <td>NaN</td>\n",
       "      <td>NaN</td>\n",
       "    </tr>\n",
       "    <tr>\n",
       "      <th>6113803</th>\n",
       "      <td>797444</td>\n",
       "      <td>50-65</td>\n",
       "      <td>M</td>\n",
       "      <td>238</td>\n",
       "      <td>238</td>\n",
       "      <td>10125891</td>\n",
       "      <td>99546</td>\n",
       "      <td>2015-07-01 02:37:21.187</td>\n",
       "      <td>digid.werk.nl</td>\n",
       "      <td>/werk_nl/werknemer/mijn_werkmap/werk-zoeken/mi...</td>\n",
       "      <td>mijn_cv</td>\n",
       "      <td>NaN</td>\n",
       "      <td>0</td>\n",
       "      <td>NaN</td>\n",
       "      <td>NaN</td>\n",
       "      <td>NaN</td>\n",
       "      <td>NaN</td>\n",
       "    </tr>\n",
       "    <tr>\n",
       "      <th>6167539</th>\n",
       "      <td>797444</td>\n",
       "      <td>50-65</td>\n",
       "      <td>M</td>\n",
       "      <td>238</td>\n",
       "      <td>238</td>\n",
       "      <td>10125891</td>\n",
       "      <td>99546</td>\n",
       "      <td>2015-07-01 02:38:42.573</td>\n",
       "      <td>digid.werk.nl</td>\n",
       "      <td>/werk_nl/werknemer/mijn_werkmap/doorgeven/mijn...</td>\n",
       "      <td>mijn_sollicitaties</td>\n",
       "      <td>NaN</td>\n",
       "      <td>0</td>\n",
       "      <td>NaN</td>\n",
       "      <td>NaN</td>\n",
       "      <td>NaN</td>\n",
       "      <td>NaN</td>\n",
       "    </tr>\n",
       "    <tr>\n",
       "      <th>6167542</th>\n",
       "      <td>797444</td>\n",
       "      <td>50-65</td>\n",
       "      <td>M</td>\n",
       "      <td>238</td>\n",
       "      <td>238</td>\n",
       "      <td>10125891</td>\n",
       "      <td>99546</td>\n",
       "      <td>2015-07-01 02:39:26.053</td>\n",
       "      <td>digid.werk.nl</td>\n",
       "      <td>/werk_nl/werknemer/mijn_werkmap/doorgeven/mijn...</td>\n",
       "      <td>mijn_sollicitaties</td>\n",
       "      <td>NaN</td>\n",
       "      <td>0</td>\n",
       "      <td>NaN</td>\n",
       "      <td>NaN</td>\n",
       "      <td>NaN</td>\n",
       "      <td>NaN</td>\n",
       "    </tr>\n",
       "    <tr>\n",
       "      <th>3812070</th>\n",
       "      <td>797444</td>\n",
       "      <td>50-65</td>\n",
       "      <td>M</td>\n",
       "      <td>238</td>\n",
       "      <td>238</td>\n",
       "      <td>10125891</td>\n",
       "      <td>99546</td>\n",
       "      <td>2015-07-01 02:41:04.587</td>\n",
       "      <td>digid.werk.nl</td>\n",
       "      <td>/werk_nl/werknemer/mijn_werkmap/doorgeven/taken</td>\n",
       "      <td>taken</td>\n",
       "      <td>NaN</td>\n",
       "      <td>0</td>\n",
       "      <td>NaN</td>\n",
       "      <td>NaN</td>\n",
       "      <td>NaN</td>\n",
       "      <td>NaN</td>\n",
       "    </tr>\n",
       "    <tr>\n",
       "      <th>4089803</th>\n",
       "      <td>797444</td>\n",
       "      <td>50-65</td>\n",
       "      <td>M</td>\n",
       "      <td>238</td>\n",
       "      <td>238</td>\n",
       "      <td>10125891</td>\n",
       "      <td>99546</td>\n",
       "      <td>2015-07-01 02:41:23.543</td>\n",
       "      <td>digid.werk.nl</td>\n",
       "      <td>/werk_nl/werknemer/mijn_werkmap/doorgeven/taken</td>\n",
       "      <td>taken</td>\n",
       "      <td>NaN</td>\n",
       "      <td>0</td>\n",
       "      <td>NaN</td>\n",
       "      <td>NaN</td>\n",
       "      <td>NaN</td>\n",
       "      <td>NaN</td>\n",
       "    </tr>\n",
       "    <tr>\n",
       "      <th>4474611</th>\n",
       "      <td>797444</td>\n",
       "      <td>50-65</td>\n",
       "      <td>M</td>\n",
       "      <td>238</td>\n",
       "      <td>238</td>\n",
       "      <td>10125891</td>\n",
       "      <td>99546</td>\n",
       "      <td>2015-07-01 02:46:24.087</td>\n",
       "      <td>digid.werk.nl</td>\n",
       "      <td>/werk_nl/werknemer/mijn_werkmap/doorgeven/taken</td>\n",
       "      <td>taken</td>\n",
       "      <td>NaN</td>\n",
       "      <td>0</td>\n",
       "      <td>NaN</td>\n",
       "      <td>NaN</td>\n",
       "      <td>NaN</td>\n",
       "      <td>NaN</td>\n",
       "    </tr>\n",
       "    <tr>\n",
       "      <th>4563705</th>\n",
       "      <td>797444</td>\n",
       "      <td>50-65</td>\n",
       "      <td>M</td>\n",
       "      <td>238</td>\n",
       "      <td>238</td>\n",
       "      <td>10125891</td>\n",
       "      <td>99546</td>\n",
       "      <td>2015-07-01 02:46:38.593</td>\n",
       "      <td>digid.werk.nl</td>\n",
       "      <td>/werk_nl/werknemer/mijn_werkmap/doorgeven/mijn...</td>\n",
       "      <td>mijn_sollicitaties</td>\n",
       "      <td>NaN</td>\n",
       "      <td>0</td>\n",
       "      <td>NaN</td>\n",
       "      <td>NaN</td>\n",
       "      <td>NaN</td>\n",
       "      <td>NaN</td>\n",
       "    </tr>\n",
       "    <tr>\n",
       "      <th>3811098</th>\n",
       "      <td>797444</td>\n",
       "      <td>50-65</td>\n",
       "      <td>M</td>\n",
       "      <td>238</td>\n",
       "      <td>238</td>\n",
       "      <td>10125891</td>\n",
       "      <td>99546</td>\n",
       "      <td>2015-07-01 02:50:12.647</td>\n",
       "      <td>digid.werk.nl</td>\n",
       "      <td>/werk_nl/werknemer/mijn_werkmap/doorgeven/taken</td>\n",
       "      <td>taken</td>\n",
       "      <td>NaN</td>\n",
       "      <td>0</td>\n",
       "      <td>NaN</td>\n",
       "      <td>NaN</td>\n",
       "      <td>NaN</td>\n",
       "      <td>NaN</td>\n",
       "    </tr>\n",
       "  </tbody>\n",
       "</table>\n",
       "</div>"
      ],
      "text/plain": [
       "         CustomerID AgeCategory Gender  Office_U  Office_W  SessionID   IPID  \\\n",
       "3271608      797444       50-65      M       238       238   10125891  99546   \n",
       "5687809      797444       50-65      M       238       238   10125891  99546   \n",
       "6113803      797444       50-65      M       238       238   10125891  99546   \n",
       "6167539      797444       50-65      M       238       238   10125891  99546   \n",
       "6167542      797444       50-65      M       238       238   10125891  99546   \n",
       "3812070      797444       50-65      M       238       238   10125891  99546   \n",
       "4089803      797444       50-65      M       238       238   10125891  99546   \n",
       "4474611      797444       50-65      M       238       238   10125891  99546   \n",
       "4563705      797444       50-65      M       238       238   10125891  99546   \n",
       "3811098      797444       50-65      M       238       238   10125891  99546   \n",
       "\n",
       "                      TIMESTAMP          VHOST  \\\n",
       "3271608 2015-07-01 02:36:59.713  digid.werk.nl   \n",
       "5687809 2015-07-01 02:37:13.210  digid.werk.nl   \n",
       "6113803 2015-07-01 02:37:21.187  digid.werk.nl   \n",
       "6167539 2015-07-01 02:38:42.573  digid.werk.nl   \n",
       "6167542 2015-07-01 02:39:26.053  digid.werk.nl   \n",
       "3812070 2015-07-01 02:41:04.587  digid.werk.nl   \n",
       "4089803 2015-07-01 02:41:23.543  digid.werk.nl   \n",
       "4474611 2015-07-01 02:46:24.087  digid.werk.nl   \n",
       "4563705 2015-07-01 02:46:38.593  digid.werk.nl   \n",
       "3811098 2015-07-01 02:50:12.647  digid.werk.nl   \n",
       "\n",
       "                                                  URL_FILE  \\\n",
       "3271608  /werk_nl/werknemer/mijn_werkmap/postvak/mijn_b...   \n",
       "5687809  /werk_nl/werknemer/mijn_werkmap/werk-zoeken/mi...   \n",
       "6113803  /werk_nl/werknemer/mijn_werkmap/werk-zoeken/mi...   \n",
       "6167539  /werk_nl/werknemer/mijn_werkmap/doorgeven/mijn...   \n",
       "6167542  /werk_nl/werknemer/mijn_werkmap/doorgeven/mijn...   \n",
       "3812070    /werk_nl/werknemer/mijn_werkmap/doorgeven/taken   \n",
       "4089803    /werk_nl/werknemer/mijn_werkmap/doorgeven/taken   \n",
       "4474611    /werk_nl/werknemer/mijn_werkmap/doorgeven/taken   \n",
       "4563705  /werk_nl/werknemer/mijn_werkmap/doorgeven/mijn...   \n",
       "3811098    /werk_nl/werknemer/mijn_werkmap/doorgeven/taken   \n",
       "\n",
       "                  PAGE_NAME REF_URL_category  page_load_error  \\\n",
       "3271608      mijn_berichten              NaN                0   \n",
       "5687809             mijn_cv              NaN                0   \n",
       "6113803             mijn_cv              NaN                0   \n",
       "6167539  mijn_sollicitaties              NaN                0   \n",
       "6167542  mijn_sollicitaties              NaN                0   \n",
       "3812070               taken              NaN                0   \n",
       "4089803               taken              NaN                0   \n",
       "4474611               taken              NaN                0   \n",
       "4563705  mijn_sollicitaties              NaN                0   \n",
       "3811098               taken              NaN                0   \n",
       "\n",
       "        page_action_detail  tip service_detail xps_info  \n",
       "3271608                NaN  NaN            NaN      NaN  \n",
       "5687809                NaN  NaN            NaN      NaN  \n",
       "6113803                NaN  NaN            NaN      NaN  \n",
       "6167539                NaN  NaN            NaN      NaN  \n",
       "6167542                NaN  NaN            NaN      NaN  \n",
       "3812070                NaN  NaN            NaN      NaN  \n",
       "4089803                NaN  NaN            NaN      NaN  \n",
       "4474611                NaN  NaN            NaN      NaN  \n",
       "4563705                NaN  NaN            NaN      NaN  \n",
       "3811098                NaN  NaN            NaN      NaN  "
      ]
     },
     "execution_count": 2,
     "metadata": {},
     "output_type": "execute_result"
    }
   ],
   "source": [
    "df = df.sort_values(by=[\"TIMESTAMP\", \"CustomerID\", \"SessionID\"])\n",
    "df.head(10)"
   ]
  },
  {
   "cell_type": "markdown",
   "id": "1c5107b8",
   "metadata": {},
   "source": [
    "## Activities"
   ]
  },
  {
   "cell_type": "code",
   "execution_count": 3,
   "id": "6308eddc",
   "metadata": {},
   "outputs": [],
   "source": [
    "value_count_activity = df[\"URL_FILE\"].value_counts()"
   ]
  },
  {
   "cell_type": "code",
   "execution_count": 4,
   "id": "8b1db68b",
   "metadata": {},
   "outputs": [
    {
     "data": {
      "text/plain": [
       "Index(['/werk_nl/werknemer/mijn_werkmap/doorgeven/taken',\n",
       "       '/werk_nl/werknemer/mijn_werkmap/werk-zoeken/vacatures_bij_mijn_cv',\n",
       "       '/werk_nl/werknemer/mijn_werkmap/werk-zoeken/mijn_cv',\n",
       "       '/werk_nl/werknemer/home',\n",
       "       '/werk_nl/werknemer/mijn_werkmap/werk-zoeken/vacatures_zoeken',\n",
       "       '/werk_nl/werknemer/mijn_werkmap/postvak/mijn_berichten',\n",
       "       '/portal/page/portal/home/diensten/aanvragen-ww',\n",
       "       '/werk_nl/werknemer/mijn_werkmap',\n",
       "       '/werk_nl/werknemer/mijn_werkmap/doorgeven/mijn_sollicitaties',\n",
       "       '/werk_nl/werknemer/werkmap'],\n",
       "      dtype='object')"
      ]
     },
     "execution_count": 4,
     "metadata": {},
     "output_type": "execute_result"
    }
   ],
   "source": [
    "df_activity_freq = pd.DataFrame([value_count_activity[:10], value_count_activity[:10] / value_count_activity.sum() * 100], ).T\n",
    "df_activity_freq.columns = [\"Frequency\", \"Percentage of total\"]\n",
    "df_activity_freq[\"Cumulative\"] = df_activity_freq[\"Percentage of total\"].cumsum()\n",
    "df_activity_freq.index"
   ]
  },
  {
   "cell_type": "code",
   "execution_count": 5,
   "id": "17119c27",
   "metadata": {},
   "outputs": [
    {
     "data": {
      "text/plain": [
       "/werk_nl/werknemer/mijn_werkmap/doorgeven/taken                      25.399829\n",
       "/werk_nl/werknemer/mijn_werkmap/werk-zoeken/vacatures_bij_mijn_cv    13.295844\n",
       "/werk_nl/werknemer/mijn_werkmap/werk-zoeken/mijn_cv                  12.273005\n",
       "/werk_nl/werknemer/home                                               8.121691\n",
       "/werk_nl/werknemer/mijn_werkmap/werk-zoeken/vacatures_zoeken          8.120270\n",
       "/werk_nl/werknemer/mijn_werkmap/postvak/mijn_berichten                7.359371\n",
       "/portal/page/portal/home/diensten/aanvragen-ww                        3.499168\n",
       "/werk_nl/werknemer/mijn_werkmap                                       2.882145\n",
       "/werk_nl/werknemer/mijn_werkmap/doorgeven/mijn_sollicitaties          2.840834\n",
       "/werk_nl/werknemer/werkmap                                            2.525556\n",
       "Name: URL_FILE, dtype: float64"
      ]
     },
     "execution_count": 5,
     "metadata": {},
     "output_type": "execute_result"
    }
   ],
   "source": [
    "value_count_activity[:10] / value_count_activity.sum() * 100"
   ]
  },
  {
   "cell_type": "code",
   "execution_count": 7,
   "id": "ffcfa76d",
   "metadata": {},
   "outputs": [
    {
     "data": {
      "image/png": "[encoded data removed]",
      "text/plain": [
       "<Figure size 1000x800 with 1 Axes>"
      ]
     },
     "metadata": {},
     "output_type": "display_data"
    }
   ],
   "source": [
    "fig = plt.figure(figsize = (10, 8))\n",
    " \n",
    "# creating the bar plot\n",
    "plt.bar([i for i in range(781)], value_count_activity.values, width=2)\n",
    "plt.plot([i for i in range(781)], value_count_activity.values)\n",
    "\n",
    "plt.xlabel(\"Activities\")\n",
    "plt.ylabel(\"Frequency of activities\")\n",
    "plt.savefig(\"Distributions/distribution_activities.png\")\n",
    "plt.show()\n"
   ]
  },
  {
   "cell_type": "code",
   "execution_count": 8,
   "id": "475606ff",
   "metadata": {},
   "outputs": [
    {
     "name": "stdout",
     "output_type": "stream",
     "text": [
      "Three most occurring activities are performed :  50.96867790003364 percent of the time\n"
     ]
    }
   ],
   "source": [
    "print(\"Three most occurring activities are performed : \", (value_count_activity / value_count_activity.sum() * 100)[:3].sum(), \"percent of the time\")"
   ]
  },
  {
   "cell_type": "code",
   "execution_count": 9,
   "id": "6193fd64",
   "metadata": {},
   "outputs": [
    {
     "name": "stdout",
     "output_type": "stream",
     "text": [
      "Twinty most occurring activities are performed :  50.96867790003364 percent of the time\n"
     ]
    }
   ],
   "source": [
    "print(\"Twinty most occurring activities are performed : \", (value_count_activity / value_count_activity.sum() * 100)[:3].sum(), \"percent of the time\")"
   ]
  },
  {
   "cell_type": "code",
   "execution_count": 10,
   "id": "c4b2dd71",
   "metadata": {},
   "outputs": [
    {
     "name": "stdout",
     "output_type": "stream",
     "text": [
      "615 of the activities is executed less than 200 times\n"
     ]
    }
   ],
   "source": [
    "print(value_count_activity[value_count_activity < 200].size, \"of the activities is executed less than 200 times\")"
   ]
  },
  {
   "cell_type": "code",
   "execution_count": 11,
   "id": "c500b305",
   "metadata": {},
   "outputs": [
    {
     "name": "stdout",
     "output_type": "stream",
     "text": [
      "357 of the activities is executed less than 10 times\n"
     ]
    }
   ],
   "source": [
    "print(value_count_activity[value_count_activity < 10].size, \"of the activities is executed less than 10 times\")"
   ]
  },
  {
   "cell_type": "code",
   "execution_count": 12,
   "id": "56cf5137",
   "metadata": {},
   "outputs": [
    {
     "name": "stdout",
     "output_type": "stream",
     "text": [
      "149 of the activities is executed less than 1 times\n"
     ]
    }
   ],
   "source": [
    "print(value_count_activity[value_count_activity == 1].size, \"of the activities is executed less than 1 times\")"
   ]
  },
  {
   "cell_type": "markdown",
   "id": "d8f45051",
   "metadata": {},
   "source": [
    "## Sessions"
   ]
  },
  {
   "cell_type": "code",
   "execution_count": 13,
   "id": "87cdb7d3",
   "metadata": {},
   "outputs": [
    {
     "data": {
      "text/plain": [
       "17065368    577\n",
       "19521443    435\n",
       "5980347     430\n",
       "15858236    428\n",
       "50423274    398\n",
       "           ... \n",
       "39876683      1\n",
       "40446129      1\n",
       "40266423      1\n",
       "43181378      1\n",
       "54161753      1\n",
       "Name: SessionID, Length: 660270, dtype: int64"
      ]
     },
     "execution_count": 13,
     "metadata": {},
     "output_type": "execute_result"
    }
   ],
   "source": [
    "value_count_SessionID = df[\"SessionID\"].value_counts()\n",
    "value_count_sessionid_x_axis = [i for i in range(660270)]\n",
    "value_count_SessionID"
   ]
  },
  {
   "cell_type": "code",
   "execution_count": 14,
   "id": "6be31d19",
   "metadata": {},
   "outputs": [
    {
     "data": {
      "image/png": "[encoded data removed]",
      "text/plain": [
       "<Figure size 1000x800 with 1 Axes>"
      ]
     },
     "metadata": {},
     "output_type": "display_data"
    }
   ],
   "source": [
    "fig = plt.figure(figsize = (10, 8))\n",
    " \n",
    "# creating the bar plot\n",
    "#plt.bar(value_count_sessionid_x_axis, value_count_SessionID.values, width=2)\n",
    "plt.plot(value_count_sessionid_x_axis, value_count_SessionID.values)\n",
    "\n",
    "plt.xlabel(\"Activities (names have been encoded because strings are too larger for display)\")\n",
    "plt.ylabel(\"Frequency of activities\")\n",
    "plt.fill_between(value_count_sessionid_x_axis, value_count_SessionID.values)\n",
    "plt.margins(y=0)\n",
    "plt.ylim(0, 600)\n",
    "plt.savefig(\"Distributions/distribution_sessionid.png\")\n",
    "plt.show()\n"
   ]
  },
  {
   "cell_type": "code",
   "execution_count": 15,
   "id": "46996a96",
   "metadata": {},
   "outputs": [
    {
     "name": "stdout",
     "output_type": "stream",
     "text": [
      "10.866666666666667 activities on average in a session\n"
     ]
    }
   ],
   "source": [
    "print(value_count_SessionID.sum() / value_count_SessionID.size, \"activities on average in a session\")"
   ]
  },
  {
   "cell_type": "code",
   "execution_count": 16,
   "id": "d187731f",
   "metadata": {},
   "outputs": [
    {
     "name": "stdout",
     "output_type": "stream",
     "text": [
      "53410 of the sessions include one activity\n"
     ]
    }
   ],
   "source": [
    "print(value_count_SessionID[value_count_SessionID == 1].size, \"of the sessions include one activity\")"
   ]
  },
  {
   "cell_type": "code",
   "execution_count": 17,
   "id": "6553e26a",
   "metadata": {},
   "outputs": [
    {
     "name": "stdout",
     "output_type": "stream",
     "text": [
      "228512 of the sessions include less than five activities\n"
     ]
    }
   ],
   "source": [
    "print(value_count_SessionID[value_count_SessionID < 5].size, \"of the sessions include less than five activities\")"
   ]
  },
  {
   "cell_type": "code",
   "execution_count": 18,
   "id": "9106ec77",
   "metadata": {},
   "outputs": [
    {
     "name": "stdout",
     "output_type": "stream",
     "text": [
      "453274 of the sessions include less than five activities\n"
     ]
    }
   ],
   "source": [
    "print(value_count_SessionID[value_count_SessionID < 11].size, \"of the sessions include less than five activities\")"
   ]
  },
  {
   "cell_type": "markdown",
   "id": "81de7f18",
   "metadata": {},
   "source": [
    "## Customers"
   ]
  },
  {
   "cell_type": "code",
   "execution_count": 19,
   "id": "3d289490",
   "metadata": {},
   "outputs": [
    {
     "data": {
      "text/plain": [
       "1682449    9701\n",
       "2075941    8053\n",
       "2076211    6466\n",
       "503400     6386\n",
       "975283     5073\n",
       "           ... \n",
       "369509        1\n",
       "2043587       1\n",
       "1867570       1\n",
       "1800882       1\n",
       "2219021       1\n",
       "Name: CustomerID, Length: 26647, dtype: int64"
      ]
     },
     "execution_count": 19,
     "metadata": {},
     "output_type": "execute_result"
    }
   ],
   "source": [
    "value_count_CustomerID = df[\"CustomerID\"].value_counts()\n",
    "value_count_CustomerID"
   ]
  },
  {
   "cell_type": "code",
   "execution_count": 20,
   "id": "d8c9c1bd",
   "metadata": {},
   "outputs": [
    {
     "data": {
      "image/png": "[encoded data removed]",
      "text/plain": [
       "<Figure size 1000x800 with 1 Axes>"
      ]
     },
     "metadata": {},
     "output_type": "display_data"
    }
   ],
   "source": [
    "fig = plt.figure(figsize = (10, 8))\n",
    " \n",
    "# creating the bar plot\n",
    "plt.bar([i for i in range(26647)], value_count_CustomerID.values, width=2)\n",
    "plt.plot([i for i in range(26647)], value_count_CustomerID.values)\n",
    "\n",
    "plt.xlabel(\"Customers (names have been encoded because strings are too larger for display)\")\n",
    "plt.ylabel(\"Frequency of activities\")\n",
    "plt.savefig(\"Distributions/distribution_customers.png\")\n",
    "plt.show()\n"
   ]
  },
  {
   "cell_type": "code",
   "execution_count": 21,
   "id": "ad8045d0",
   "metadata": {},
   "outputs": [
    {
     "name": "stdout",
     "output_type": "stream",
     "text": [
      "269.25860321987466 average activities per customer\n"
     ]
    }
   ],
   "source": [
    "print(df.shape[0] / len(value_count_CustomerID), \"average activities per customer\")"
   ]
  },
  {
   "cell_type": "code",
   "execution_count": 22,
   "id": "82e51106",
   "metadata": {},
   "outputs": [
    {
     "name": "stdout",
     "output_type": "stream",
     "text": [
      "123 of the customers only execute one activity\n"
     ]
    }
   ],
   "source": [
    "print(value_count_CustomerID[value_count_CustomerID == 1].size, \"of the customers only execute one activity\")"
   ]
  },
  {
   "cell_type": "code",
   "execution_count": 23,
   "id": "045b0bb7",
   "metadata": {},
   "outputs": [
    {
     "name": "stdout",
     "output_type": "stream",
     "text": [
      "905 of the customers only execute one activity\n"
     ]
    }
   ],
   "source": [
    "print(value_count_CustomerID[value_count_CustomerID < 11].size, \"of the customers only execute one activity\")"
   ]
  },
  {
   "cell_type": "code",
   "execution_count": 24,
   "id": "ff213fe9",
   "metadata": {},
   "outputs": [
    {
     "name": "stdout",
     "output_type": "stream",
     "text": [
      "17612 of the customers only execute one activity\n"
     ]
    }
   ],
   "source": [
    "print(value_count_CustomerID[value_count_CustomerID < 270].size, \"of the customers only execute one activity\")"
   ]
  },
  {
   "cell_type": "code",
   "execution_count": 25,
   "id": "e7197416",
   "metadata": {},
   "outputs": [
    {
     "name": "stdout",
     "output_type": "stream",
     "text": [
      "8.079586516057152 percent of the activities come from the 1% most active users\n"
     ]
    }
   ],
   "source": [
    "print((value_count_CustomerID / value_count_CustomerID.sum() * 100)[:266].sum(), \"percent of the activities come from the 1% most active users\")"
   ]
  },
  {
   "cell_type": "markdown",
   "id": "ae28850f",
   "metadata": {},
   "source": [
    "## Sessions per user"
   ]
  },
  {
   "cell_type": "code",
   "execution_count": 26,
   "id": "87046b2d",
   "metadata": {},
   "outputs": [],
   "source": [
    "value_count_session_per_customer_temp = df.groupby([\"SessionID\", \"CustomerID\"], as_index=False).count()"
   ]
  },
  {
   "cell_type": "code",
   "execution_count": 27,
   "id": "c1b3ceac",
   "metadata": {},
   "outputs": [],
   "source": [
    "value_count_session_per_customer = value_count_session_per_customer_temp[\"CustomerID\"].value_counts()"
   ]
  },
  {
   "cell_type": "code",
   "execution_count": 28,
   "id": "437243a2",
   "metadata": {},
   "outputs": [
    {
     "data": {
      "text/plain": [
       "1682449    494\n",
       "1389451    450\n",
       "984160     433\n",
       "2036141    423\n",
       "2033620    364\n",
       "          ... \n",
       "1748632      1\n",
       "2050978      1\n",
       "1858263      1\n",
       "2141057      1\n",
       "2232043      1\n",
       "Name: CustomerID, Length: 26647, dtype: int64"
      ]
     },
     "execution_count": 28,
     "metadata": {},
     "output_type": "execute_result"
    }
   ],
   "source": [
    "value_count_session_per_customer"
   ]
  },
  {
   "cell_type": "code",
   "execution_count": 29,
   "id": "38ce79ce",
   "metadata": {},
   "outputs": [
    {
     "data": {
      "image/png": "[encoded data removed]",
      "text/plain": [
       "<Figure size 1000x800 with 1 Axes>"
      ]
     },
     "metadata": {},
     "output_type": "display_data"
    }
   ],
   "source": [
    "\n",
    "fig = plt.figure(figsize = (10, 8))\n",
    " \n",
    "# creating the bar plot\n",
    "plt.plot([i for i in range(26647)], value_count_session_per_customer.values)\n",
    "\n",
    "\n",
    "plt.fill_between([i for i in range(26647)], value_count_session_per_customer.values)\n",
    "plt.margins(y=0)\n",
    "plt.ylim(0,520)\n",
    "plt.xlabel(\"Customers (names have been encoded because strings are too larger for display)\")\n",
    "plt.ylabel(\"Frequency of sessions\")\n",
    "plt.savefig(\"Distributions/distribution_sessions_per_user.png\")\n",
    "plt.show()\n"
   ]
  },
  {
   "cell_type": "code",
   "execution_count": 30,
   "id": "0dba08af",
   "metadata": {},
   "outputs": [
    {
     "name": "stdout",
     "output_type": "stream",
     "text": [
      "24.791308590085187 average sessions per users\n"
     ]
    }
   ],
   "source": [
    "print(value_count_session_per_customer.sum() / value_count_session_per_customer.size, \"average sessions per users\")"
   ]
  },
  {
   "cell_type": "code",
   "execution_count": 31,
   "id": "3733b75c",
   "metadata": {},
   "outputs": [
    {
     "name": "stdout",
     "output_type": "stream",
     "text": [
      "942 users only perform one session\n"
     ]
    }
   ],
   "source": [
    "print(value_count_session_per_customer[value_count_session_per_customer == 1].size, \"users only perform one session\")"
   ]
  },
  {
   "cell_type": "code",
   "execution_count": 32,
   "id": "206346c7",
   "metadata": {},
   "outputs": [
    {
     "name": "stdout",
     "output_type": "stream",
     "text": [
      "8185 users only perform one session\n"
     ]
    }
   ],
   "source": [
    "print(value_count_session_per_customer[value_count_session_per_customer < 10].size, \"users only perform one session\")"
   ]
  },
  {
   "cell_type": "code",
   "execution_count": 33,
   "id": "bf88a746",
   "metadata": {},
   "outputs": [
    {
     "name": "stdout",
     "output_type": "stream",
     "text": [
      "17170 users only perform one session\n"
     ]
    }
   ],
   "source": [
    "print(value_count_session_per_customer[value_count_session_per_customer < 25].size, \"users only perform one session\")"
   ]
  },
  {
   "cell_type": "code",
   "execution_count": 34,
   "id": "b3e18ce0",
   "metadata": {},
   "outputs": [
    {
     "name": "stdout",
     "output_type": "stream",
     "text": [
      "6.859527651548408 percent of all the sessions come from the 1% most active users\n"
     ]
    }
   ],
   "source": [
    "print((value_count_session_per_customer / value_count_session_per_customer.sum() * 100)[:266].sum(), \"percent of all the sessions come from the 1% most active users\")"
   ]
  },
  {
   "cell_type": "code",
   "execution_count": 42,
   "id": "8cb0b7ba",
   "metadata": {},
   "outputs": [],
   "source": [
    "def concat_and_filter(df_raw, file_name, amount_real, amount_anomalies):\n",
    "\n",
    "    df_gen_anomalies = pd.read_csv(file_name)\n",
    "    df_gen_anomalies[\"Label\"] = \"potential_anomaly\"\n",
    "    df_raw_filtered = df_raw[df_raw[\"SessionID\"].isin(df_raw[\"SessionID\"].unique()[:amount_real])]\n",
    "    df_gen_anomalies_filtered = df_gen_anomalies[df_gen_anomalies[\"SessionID\"].isin(df_gen_anomalies[\"SessionID\"].unique()[:amount_anomalies])]\n",
    "\n",
    "    df = pd.concat([df_raw_filtered, df_gen_anomalies_filtered])\n",
    "    return df"
   ]
  },
  {
   "cell_type": "code",
   "execution_count": 45,
   "id": "107c1e1a",
   "metadata": {},
   "outputs": [],
   "source": [
    "var_2_amount_real = 1000000000000\n",
    "var_2_amount_generated = 2000\n",
    "\n",
    "url = 'generated_data/Pattern_3/generated_anomalies_plus_25_2k.csv'\n",
    "df_concat = concat_and_filter(df, url, amount_real = var_2_amount_real, amount_anomalies=var_2_amount_generated)"
   ]
  },
  {
   "cell_type": "code",
   "execution_count": 46,
   "id": "9ee89f47",
   "metadata": {},
   "outputs": [
    {
     "data": {
      "text/html": [
       "<div>\n",
       "<style scoped>\n",
       "    .dataframe tbody tr th:only-of-type {\n",
       "        vertical-align: middle;\n",
       "    }\n",
       "\n",
       "    .dataframe tbody tr th {\n",
       "        vertical-align: top;\n",
       "    }\n",
       "\n",
       "    .dataframe thead th {\n",
       "        text-align: right;\n",
       "    }\n",
       "</style>\n",
       "<table border=\"1\" class=\"dataframe\">\n",
       "  <thead>\n",
       "    <tr style=\"text-align: right;\">\n",
       "      <th></th>\n",
       "      <th>CustomerID</th>\n",
       "      <th>AgeCategory</th>\n",
       "      <th>Gender</th>\n",
       "      <th>Office_U</th>\n",
       "      <th>Office_W</th>\n",
       "      <th>SessionID</th>\n",
       "      <th>IPID</th>\n",
       "      <th>TIMESTAMP</th>\n",
       "      <th>VHOST</th>\n",
       "      <th>URL_FILE</th>\n",
       "      <th>PAGE_NAME</th>\n",
       "      <th>REF_URL_category</th>\n",
       "      <th>page_load_error</th>\n",
       "      <th>page_action_detail</th>\n",
       "      <th>tip</th>\n",
       "      <th>service_detail</th>\n",
       "      <th>xps_info</th>\n",
       "      <th>Unnamed: 0</th>\n",
       "      <th>Label</th>\n",
       "    </tr>\n",
       "  </thead>\n",
       "  <tbody>\n",
       "    <tr>\n",
       "      <th>3271608</th>\n",
       "      <td>797444.0</td>\n",
       "      <td>50-65</td>\n",
       "      <td>M</td>\n",
       "      <td>238.0</td>\n",
       "      <td>238.0</td>\n",
       "      <td>10125891</td>\n",
       "      <td>99546.0</td>\n",
       "      <td>2015-07-01 02:36:59.713</td>\n",
       "      <td>digid.werk.nl</td>\n",
       "      <td>/werk_nl/werknemer/mijn_werkmap/postvak/mijn_b...</td>\n",
       "      <td>mijn_berichten</td>\n",
       "      <td>NaN</td>\n",
       "      <td>0.0</td>\n",
       "      <td>NaN</td>\n",
       "      <td>NaN</td>\n",
       "      <td>NaN</td>\n",
       "      <td>NaN</td>\n",
       "      <td>NaN</td>\n",
       "      <td>NaN</td>\n",
       "    </tr>\n",
       "    <tr>\n",
       "      <th>5687809</th>\n",
       "      <td>797444.0</td>\n",
       "      <td>50-65</td>\n",
       "      <td>M</td>\n",
       "      <td>238.0</td>\n",
       "      <td>238.0</td>\n",
       "      <td>10125891</td>\n",
       "      <td>99546.0</td>\n",
       "      <td>2015-07-01 02:37:13.210</td>\n",
       "      <td>digid.werk.nl</td>\n",
       "      <td>/werk_nl/werknemer/mijn_werkmap/werk-zoeken/mi...</td>\n",
       "      <td>mijn_cv</td>\n",
       "      <td>NaN</td>\n",
       "      <td>0.0</td>\n",
       "      <td>NaN</td>\n",
       "      <td>NaN</td>\n",
       "      <td>NaN</td>\n",
       "      <td>NaN</td>\n",
       "      <td>NaN</td>\n",
       "      <td>NaN</td>\n",
       "    </tr>\n",
       "    <tr>\n",
       "      <th>6113803</th>\n",
       "      <td>797444.0</td>\n",
       "      <td>50-65</td>\n",
       "      <td>M</td>\n",
       "      <td>238.0</td>\n",
       "      <td>238.0</td>\n",
       "      <td>10125891</td>\n",
       "      <td>99546.0</td>\n",
       "      <td>2015-07-01 02:37:21.187</td>\n",
       "      <td>digid.werk.nl</td>\n",
       "      <td>/werk_nl/werknemer/mijn_werkmap/werk-zoeken/mi...</td>\n",
       "      <td>mijn_cv</td>\n",
       "      <td>NaN</td>\n",
       "      <td>0.0</td>\n",
       "      <td>NaN</td>\n",
       "      <td>NaN</td>\n",
       "      <td>NaN</td>\n",
       "      <td>NaN</td>\n",
       "      <td>NaN</td>\n",
       "      <td>NaN</td>\n",
       "    </tr>\n",
       "    <tr>\n",
       "      <th>6167539</th>\n",
       "      <td>797444.0</td>\n",
       "      <td>50-65</td>\n",
       "      <td>M</td>\n",
       "      <td>238.0</td>\n",
       "      <td>238.0</td>\n",
       "      <td>10125891</td>\n",
       "      <td>99546.0</td>\n",
       "      <td>2015-07-01 02:38:42.573</td>\n",
       "      <td>digid.werk.nl</td>\n",
       "      <td>/werk_nl/werknemer/mijn_werkmap/doorgeven/mijn...</td>\n",
       "      <td>mijn_sollicitaties</td>\n",
       "      <td>NaN</td>\n",
       "      <td>0.0</td>\n",
       "      <td>NaN</td>\n",
       "      <td>NaN</td>\n",
       "      <td>NaN</td>\n",
       "      <td>NaN</td>\n",
       "      <td>NaN</td>\n",
       "      <td>NaN</td>\n",
       "    </tr>\n",
       "    <tr>\n",
       "      <th>6167542</th>\n",
       "      <td>797444.0</td>\n",
       "      <td>50-65</td>\n",
       "      <td>M</td>\n",
       "      <td>238.0</td>\n",
       "      <td>238.0</td>\n",
       "      <td>10125891</td>\n",
       "      <td>99546.0</td>\n",
       "      <td>2015-07-01 02:39:26.053</td>\n",
       "      <td>digid.werk.nl</td>\n",
       "      <td>/werk_nl/werknemer/mijn_werkmap/doorgeven/mijn...</td>\n",
       "      <td>mijn_sollicitaties</td>\n",
       "      <td>NaN</td>\n",
       "      <td>0.0</td>\n",
       "      <td>NaN</td>\n",
       "      <td>NaN</td>\n",
       "      <td>NaN</td>\n",
       "      <td>NaN</td>\n",
       "      <td>NaN</td>\n",
       "      <td>NaN</td>\n",
       "    </tr>\n",
       "    <tr>\n",
       "      <th>...</th>\n",
       "      <td>...</td>\n",
       "      <td>...</td>\n",
       "      <td>...</td>\n",
       "      <td>...</td>\n",
       "      <td>...</td>\n",
       "      <td>...</td>\n",
       "      <td>...</td>\n",
       "      <td>...</td>\n",
       "      <td>...</td>\n",
       "      <td>...</td>\n",
       "      <td>...</td>\n",
       "      <td>...</td>\n",
       "      <td>...</td>\n",
       "      <td>...</td>\n",
       "      <td>...</td>\n",
       "      <td>...</td>\n",
       "      <td>...</td>\n",
       "      <td>...</td>\n",
       "      <td>...</td>\n",
       "    </tr>\n",
       "    <tr>\n",
       "      <th>180374</th>\n",
       "      <td>NaN</td>\n",
       "      <td>NaN</td>\n",
       "      <td>NaN</td>\n",
       "      <td>NaN</td>\n",
       "      <td>NaN</td>\n",
       "      <td>generated_plus_25_1999</td>\n",
       "      <td>NaN</td>\n",
       "      <td>NaT</td>\n",
       "      <td>NaN</td>\n",
       "      <td>/werk_nl/werknemer/home</td>\n",
       "      <td>NaN</td>\n",
       "      <td>NaN</td>\n",
       "      <td>NaN</td>\n",
       "      <td>NaN</td>\n",
       "      <td>NaN</td>\n",
       "      <td>NaN</td>\n",
       "      <td>NaN</td>\n",
       "      <td>180374.0</td>\n",
       "      <td>potential_anomaly</td>\n",
       "    </tr>\n",
       "    <tr>\n",
       "      <th>180375</th>\n",
       "      <td>NaN</td>\n",
       "      <td>NaN</td>\n",
       "      <td>NaN</td>\n",
       "      <td>NaN</td>\n",
       "      <td>NaN</td>\n",
       "      <td>generated_plus_25_1999</td>\n",
       "      <td>NaN</td>\n",
       "      <td>NaT</td>\n",
       "      <td>NaN</td>\n",
       "      <td>/portal/page/portal/home/diensten/aanvragen-ww</td>\n",
       "      <td>NaN</td>\n",
       "      <td>NaN</td>\n",
       "      <td>NaN</td>\n",
       "      <td>NaN</td>\n",
       "      <td>NaN</td>\n",
       "      <td>NaN</td>\n",
       "      <td>NaN</td>\n",
       "      <td>180375.0</td>\n",
       "      <td>potential_anomaly</td>\n",
       "    </tr>\n",
       "    <tr>\n",
       "      <th>180376</th>\n",
       "      <td>NaN</td>\n",
       "      <td>NaN</td>\n",
       "      <td>NaN</td>\n",
       "      <td>NaN</td>\n",
       "      <td>NaN</td>\n",
       "      <td>generated_plus_25_1999</td>\n",
       "      <td>NaN</td>\n",
       "      <td>NaT</td>\n",
       "      <td>NaN</td>\n",
       "      <td>/werk_nl/werknemer/home</td>\n",
       "      <td>NaN</td>\n",
       "      <td>NaN</td>\n",
       "      <td>NaN</td>\n",
       "      <td>NaN</td>\n",
       "      <td>NaN</td>\n",
       "      <td>NaN</td>\n",
       "      <td>NaN</td>\n",
       "      <td>180376.0</td>\n",
       "      <td>potential_anomaly</td>\n",
       "    </tr>\n",
       "    <tr>\n",
       "      <th>180377</th>\n",
       "      <td>NaN</td>\n",
       "      <td>NaN</td>\n",
       "      <td>NaN</td>\n",
       "      <td>NaN</td>\n",
       "      <td>NaN</td>\n",
       "      <td>generated_plus_25_1999</td>\n",
       "      <td>NaN</td>\n",
       "      <td>NaT</td>\n",
       "      <td>NaN</td>\n",
       "      <td>/portal/page/portal/home/diensten/aanvragen-ww</td>\n",
       "      <td>NaN</td>\n",
       "      <td>NaN</td>\n",
       "      <td>NaN</td>\n",
       "      <td>NaN</td>\n",
       "      <td>NaN</td>\n",
       "      <td>NaN</td>\n",
       "      <td>NaN</td>\n",
       "      <td>180377.0</td>\n",
       "      <td>potential_anomaly</td>\n",
       "    </tr>\n",
       "    <tr>\n",
       "      <th>180378</th>\n",
       "      <td>NaN</td>\n",
       "      <td>NaN</td>\n",
       "      <td>NaN</td>\n",
       "      <td>NaN</td>\n",
       "      <td>NaN</td>\n",
       "      <td>generated_plus_25_1999</td>\n",
       "      <td>NaN</td>\n",
       "      <td>NaT</td>\n",
       "      <td>NaN</td>\n",
       "      <td>/werk_nl/werknemer/home</td>\n",
       "      <td>NaN</td>\n",
       "      <td>NaN</td>\n",
       "      <td>NaN</td>\n",
       "      <td>NaN</td>\n",
       "      <td>NaN</td>\n",
       "      <td>NaN</td>\n",
       "      <td>NaN</td>\n",
       "      <td>180378.0</td>\n",
       "      <td>potential_anomaly</td>\n",
       "    </tr>\n",
       "  </tbody>\n",
       "</table>\n",
       "<p>7355313 rows × 19 columns</p>\n",
       "</div>"
      ],
      "text/plain": [
       "         CustomerID AgeCategory Gender  Office_U  Office_W  \\\n",
       "3271608    797444.0       50-65      M     238.0     238.0   \n",
       "5687809    797444.0       50-65      M     238.0     238.0   \n",
       "6113803    797444.0       50-65      M     238.0     238.0   \n",
       "6167539    797444.0       50-65      M     238.0     238.0   \n",
       "6167542    797444.0       50-65      M     238.0     238.0   \n",
       "...             ...         ...    ...       ...       ...   \n",
       "180374          NaN         NaN    NaN       NaN       NaN   \n",
       "180375          NaN         NaN    NaN       NaN       NaN   \n",
       "180376          NaN         NaN    NaN       NaN       NaN   \n",
       "180377          NaN         NaN    NaN       NaN       NaN   \n",
       "180378          NaN         NaN    NaN       NaN       NaN   \n",
       "\n",
       "                      SessionID     IPID               TIMESTAMP  \\\n",
       "3271608                10125891  99546.0 2015-07-01 02:36:59.713   \n",
       "5687809                10125891  99546.0 2015-07-01 02:37:13.210   \n",
       "6113803                10125891  99546.0 2015-07-01 02:37:21.187   \n",
       "6167539                10125891  99546.0 2015-07-01 02:38:42.573   \n",
       "6167542                10125891  99546.0 2015-07-01 02:39:26.053   \n",
       "...                         ...      ...                     ...   \n",
       "180374   generated_plus_25_1999      NaN                     NaT   \n",
       "180375   generated_plus_25_1999      NaN                     NaT   \n",
       "180376   generated_plus_25_1999      NaN                     NaT   \n",
       "180377   generated_plus_25_1999      NaN                     NaT   \n",
       "180378   generated_plus_25_1999      NaN                     NaT   \n",
       "\n",
       "                 VHOST                                           URL_FILE  \\\n",
       "3271608  digid.werk.nl  /werk_nl/werknemer/mijn_werkmap/postvak/mijn_b...   \n",
       "5687809  digid.werk.nl  /werk_nl/werknemer/mijn_werkmap/werk-zoeken/mi...   \n",
       "6113803  digid.werk.nl  /werk_nl/werknemer/mijn_werkmap/werk-zoeken/mi...   \n",
       "6167539  digid.werk.nl  /werk_nl/werknemer/mijn_werkmap/doorgeven/mijn...   \n",
       "6167542  digid.werk.nl  /werk_nl/werknemer/mijn_werkmap/doorgeven/mijn...   \n",
       "...                ...                                                ...   \n",
       "180374             NaN                            /werk_nl/werknemer/home   \n",
       "180375             NaN     /portal/page/portal/home/diensten/aanvragen-ww   \n",
       "180376             NaN                            /werk_nl/werknemer/home   \n",
       "180377             NaN     /portal/page/portal/home/diensten/aanvragen-ww   \n",
       "180378             NaN                            /werk_nl/werknemer/home   \n",
       "\n",
       "                  PAGE_NAME REF_URL_category  page_load_error  \\\n",
       "3271608      mijn_berichten              NaN              0.0   \n",
       "5687809             mijn_cv              NaN              0.0   \n",
       "6113803             mijn_cv              NaN              0.0   \n",
       "6167539  mijn_sollicitaties              NaN              0.0   \n",
       "6167542  mijn_sollicitaties              NaN              0.0   \n",
       "...                     ...              ...              ...   \n",
       "180374                  NaN              NaN              NaN   \n",
       "180375                  NaN              NaN              NaN   \n",
       "180376                  NaN              NaN              NaN   \n",
       "180377                  NaN              NaN              NaN   \n",
       "180378                  NaN              NaN              NaN   \n",
       "\n",
       "        page_action_detail  tip service_detail xps_info  Unnamed: 0  \\\n",
       "3271608                NaN  NaN            NaN      NaN         NaN   \n",
       "5687809                NaN  NaN            NaN      NaN         NaN   \n",
       "6113803                NaN  NaN            NaN      NaN         NaN   \n",
       "6167539                NaN  NaN            NaN      NaN         NaN   \n",
       "6167542                NaN  NaN            NaN      NaN         NaN   \n",
       "...                    ...  ...            ...      ...         ...   \n",
       "180374                 NaN  NaN            NaN      NaN    180374.0   \n",
       "180375                 NaN  NaN            NaN      NaN    180375.0   \n",
       "180376                 NaN  NaN            NaN      NaN    180376.0   \n",
       "180377                 NaN  NaN            NaN      NaN    180377.0   \n",
       "180378                 NaN  NaN            NaN      NaN    180378.0   \n",
       "\n",
       "                     Label  \n",
       "3271608                NaN  \n",
       "5687809                NaN  \n",
       "6113803                NaN  \n",
       "6167539                NaN  \n",
       "6167542                NaN  \n",
       "...                    ...  \n",
       "180374   potential_anomaly  \n",
       "180375   potential_anomaly  \n",
       "180376   potential_anomaly  \n",
       "180377   potential_anomaly  \n",
       "180378   potential_anomaly  \n",
       "\n",
       "[7355313 rows x 19 columns]"
      ]
     },
     "execution_count": 46,
     "metadata": {},
     "output_type": "execute_result"
    }
   ],
   "source": [
    "df_concat"
   ]
  },
  {
   "cell_type": "code",
   "execution_count": 47,
   "id": "2272fd93",
   "metadata": {},
   "outputs": [],
   "source": [
    "#Calculate how many times each activity is repeated\n",
    "df_for_gby = df.sort_values([\"SessionID\", \"TIMESTAMP\"])[[\"SessionID\", \"URL_FILE\"]]\n",
    "\n",
    "df_for_gby[\"consecutive\"] = df_for_gby.groupby(\"SessionID\")[\"URL_FILE\"].shift(periods=-1)\n",
    "df_for_gby[\"Count_ww\"] = (df_for_gby[\"URL_FILE\"] == \"/portal/page/portal/home/diensten/aanvragen-ww\").astype(int)\n",
    "df_for_gby['consecutive_agg'] = df_for_gby.Count_ww.groupby((df_for_gby.Count_ww != df_for_gby.Count_ww.shift()).cumsum()).transform('size') * df_for_gby.Count_ww\n",
    "\n",
    "#Get all the repetitions\n",
    "empty_list = []\n",
    "\n",
    "for row in df_for_gby.values:\n",
    "    if row[-1] == 0:\n",
    "        je_mag_opslaan = True\n",
    "    if je_mag_opslaan == True and row[-1] > 0:\n",
    "        empty_list.append([row[0], row[1], row[-1]])\n",
    "        je_mag_opslaan = False\n",
    "\n",
    "repetition_df = pd.DataFrame(empty_list, columns=[\"SessionID\", \"URL_FILE\", \"Rep_count\"])\n",
    "\n",
    "\n",
    "df_aanvragen_rep_in_session = repetition_df[repetition_df[\"URL_FILE\"] == \"/portal/page/portal/home/diensten/aanvragen-ww\"].groupby(\"SessionID\").count()\n",
    "\n",
    "count_rep_pattern = df_aanvragen_rep_in_session[\"Rep_count\"].value_counts()\n",
    "\n",
    "x_1 = count_rep_pattern.index\n",
    "y_1 = count_rep_pattern.values"
   ]
  },
  {
   "cell_type": "code",
   "execution_count": null,
   "id": "c35f623b",
   "metadata": {},
   "outputs": [],
   "source": [
    "#Calculate how many times each activity is repeated\n",
    "df_for_gby = df_concat.sort_values([\"SessionID\", \"TIMESTAMP\"])[[\"SessionID\", \"URL_FILE\"]]\n",
    "\n",
    "df_for_gby[\"consecutive\"] = df_for_gby.groupby(\"SessionID\")[\"URL_FILE\"].shift(periods=-1)\n",
    "df_for_gby[\"Count_ww\"] = (df_for_gby[\"URL_FILE\"] == \"/portal/page/portal/home/diensten/aanvragen-ww\").astype(int)\n",
    "df_for_gby['consecutive_agg'] = df_for_gby.Count_ww.groupby((df_for_gby.Count_ww != df_for_gby.Count_ww.shift()).cumsum()).transform('size') * df_for_gby.Count_ww\n",
    "\n",
    "#Get all the repetitions\n",
    "empty_list = []\n",
    "\n",
    "for row in df_for_gby.values:\n",
    "    if row[-1] == 0:\n",
    "        je_mag_opslaan = True\n",
    "    if je_mag_opslaan == True and row[-1] > 0:\n",
    "        empty_list.append([row[0], row[1], row[-1]])\n",
    "        je_mag_opslaan = False\n",
    "\n",
    "repetition_df = pd.DataFrame(empty_list, columns=[\"SessionID\", \"URL_FILE\", \"Rep_count\"])\n",
    "\n",
    "\n",
    "df_aanvragen_rep_in_session = repetition_df[repetition_df[\"URL_FILE\"] == \"/portal/page/portal/home/diensten/aanvragen-ww\"].groupby(\"SessionID\").count()\n",
    "\n",
    "count_rep_pattern = df_aanvragen_rep_in_session[\"Rep_count\"].value_counts()\n",
    "\n",
    "x_2 = count_rep_pattern.index\n",
    "y_2 = count_rep_pattern.values"
   ]
  },
  {
   "cell_type": "code",
   "execution_count": null,
   "id": "bf9151f0",
   "metadata": {},
   "outputs": [
    {
     "data": {
      "image/png": "[encoded data removed]",
      "text/plain": [
       "<Figure size 1152x576 with 1 Axes>"
      ]
     },
     "metadata": {
      "needs_background": "light"
     },
     "output_type": "display_data"
    }
   ],
   "source": [
    "plt.figure(figsize=(16, 8))\n",
    "plt.bar(x_2, y_2, label=\"Distribution with added values\", color=\"#FF5733\")\n",
    "plt.bar(x_1, y_1, label=\"Distribution original\")\n",
    "plt.legend()\n",
    "plt.ylabel('Frequency of occurrence of pattern')\n",
    "plt.xlabel('Number of repetitions in a single session')\n",
    "plt.savefig(\"advanced_repetition_added_anomalies.png\")"
   ]
  }
 ],
 "metadata": {
  "kernelspec": {
   "display_name": "Python 3.10.4 64-bit",
   "language": "python",
   "name": "python3"
  },
  "language_info": {
   "codemirror_mode": {
    "name": "ipython",
    "version": 3
   },
   "file_extension": ".py",
   "mimetype": "text/x-python",
   "name": "python",
   "nbconvert_exporter": "python",
   "pygments_lexer": "ipython3",
   "version": "3.10.4"
  },
  "vscode": {
   "interpreter": {
    "hash": "369f2c481f4da34e4445cda3fffd2e751bd1c4d706f27375911949ba6bb62e1c"
   }
  }
 },
 "nbformat": 4,
 "nbformat_minor": 5
}
