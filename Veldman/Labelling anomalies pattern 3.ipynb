{
 "cells": [
  {
   "cell_type": "code",
   "execution_count": 1,
   "id": "ad9aea28",
   "metadata": {},
   "outputs": [
    {
     "name": "stderr",
     "output_type": "stream",
     "text": [
      "C:\\Users\\jveldman\\Anaconda3\\lib\\site-packages\\IPython\\core\\interactiveshell.py:3444: DtypeWarning: Columns (11,13,14,15,16) have mixed types.Specify dtype option on import or set low_memory=False.\n",
      "  exec(code_obj, self.user_global_ns, self.user_ns)\n"
     ]
    }
   ],
   "source": [
    "import pandas as pd\n",
    "from collections import Counter\n",
    "import matplotlib.pyplot as plt\n",
    "import numpy as np\n",
    "%matplotlib inline\n",
    "\n",
    "df_original = pd.read_csv(\"BPI2016_Clicks_Logged_In.csv\", encoding_errors=\"ignore\", on_bad_lines='skip', sep=\";\",\n",
    "                usecols=['CustomerID', 'AgeCategory', 'Gender', 'Office_U', 'Office_W',\n",
    "       'SessionID', 'IPID', 'TIMESTAMP', 'VHOST', 'URL_FILE', 'PAGE_NAME',\n",
    "       'REF_URL_category', 'page_load_error', 'page_action_detail', 'tip',\n",
    "       'service_detail', 'xps_info'])\n",
    "df_original[\"TIMESTAMP\"] = pd.to_datetime(df_original[\"TIMESTAMP\"], infer_datetime_format=True)"
   ]
  },
  {
   "cell_type": "code",
   "execution_count": 2,
   "id": "450b47e8",
   "metadata": {},
   "outputs": [],
   "source": [
    "#Calculate how many times each activity is repeated\n",
    "df_for_gby = df_original.sort_values([\"SessionID\", \"TIMESTAMP\"])[[\"SessionID\", \"URL_FILE\"]]\n",
    "\n"
   ]
  },
  {
   "cell_type": "code",
   "execution_count": 3,
   "id": "52066736",
   "metadata": {},
   "outputs": [
    {
     "data": {
      "text/html": [
       "<div>\n",
       "<style scoped>\n",
       "    .dataframe tbody tr th:only-of-type {\n",
       "        vertical-align: middle;\n",
       "    }\n",
       "\n",
       "    .dataframe tbody tr th {\n",
       "        vertical-align: top;\n",
       "    }\n",
       "\n",
       "    .dataframe thead th {\n",
       "        text-align: right;\n",
       "    }\n",
       "</style>\n",
       "<table border=\"1\" class=\"dataframe\">\n",
       "  <thead>\n",
       "    <tr style=\"text-align: right;\">\n",
       "      <th></th>\n",
       "      <th>SessionID</th>\n",
       "      <th>URL_FILE</th>\n",
       "      <th>consecutive</th>\n",
       "      <th>Count_ww</th>\n",
       "      <th>consecutive_agg</th>\n",
       "    </tr>\n",
       "  </thead>\n",
       "  <tbody>\n",
       "    <tr>\n",
       "      <th>3273278</th>\n",
       "      <td>46</td>\n",
       "      <td>/werk_nl/werknemer/mijn_werkmap/doorgeven/taken</td>\n",
       "      <td>/werk_nl/werknemer/mijn_werkmap/doorgeven/mijn...</td>\n",
       "      <td>0</td>\n",
       "      <td>0</td>\n",
       "    </tr>\n",
       "    <tr>\n",
       "      <th>5333642</th>\n",
       "      <td>46</td>\n",
       "      <td>/werk_nl/werknemer/mijn_werkmap/doorgeven/mijn...</td>\n",
       "      <td>/werk_nl/werknemer/mijn_werkmap/postvak/mijn_d...</td>\n",
       "      <td>0</td>\n",
       "      <td>0</td>\n",
       "    </tr>\n",
       "    <tr>\n",
       "      <th>3733243</th>\n",
       "      <td>46</td>\n",
       "      <td>/werk_nl/werknemer/mijn_werkmap/postvak/mijn_d...</td>\n",
       "      <td>/werk_nl/werknemer/mijn_werkmap/postvak/mijn_b...</td>\n",
       "      <td>0</td>\n",
       "      <td>0</td>\n",
       "    </tr>\n",
       "    <tr>\n",
       "      <th>5904405</th>\n",
       "      <td>46</td>\n",
       "      <td>/werk_nl/werknemer/mijn_werkmap/postvak/mijn_b...</td>\n",
       "      <td>/werk_nl/werknemer/mijn_werkmap/postvak/mijn_b...</td>\n",
       "      <td>0</td>\n",
       "      <td>0</td>\n",
       "    </tr>\n",
       "    <tr>\n",
       "      <th>5573282</th>\n",
       "      <td>46</td>\n",
       "      <td>/werk_nl/werknemer/mijn_werkmap/postvak/mijn_b...</td>\n",
       "      <td>/werk_nl/werknemer/mijn_werkmap/postvak/mijn_b...</td>\n",
       "      <td>0</td>\n",
       "      <td>0</td>\n",
       "    </tr>\n",
       "    <tr>\n",
       "      <th>...</th>\n",
       "      <td>...</td>\n",
       "      <td>...</td>\n",
       "      <td>...</td>\n",
       "      <td>...</td>\n",
       "      <td>...</td>\n",
       "    </tr>\n",
       "    <tr>\n",
       "      <th>1613546</th>\n",
       "      <td>55314751</td>\n",
       "      <td>/werk_nl/werknemer/werkmap</td>\n",
       "      <td>/werk_nl/werknemer/mijn_werkmap/doorgeven/taken</td>\n",
       "      <td>0</td>\n",
       "      <td>0</td>\n",
       "    </tr>\n",
       "    <tr>\n",
       "      <th>2925569</th>\n",
       "      <td>55314751</td>\n",
       "      <td>/werk_nl/werknemer/mijn_werkmap/doorgeven/taken</td>\n",
       "      <td>/werk_nl/werknemer/mijn_werkmap/doorgeven/taken</td>\n",
       "      <td>0</td>\n",
       "      <td>0</td>\n",
       "    </tr>\n",
       "    <tr>\n",
       "      <th>4068602</th>\n",
       "      <td>55314751</td>\n",
       "      <td>/werk_nl/werknemer/mijn_werkmap/doorgeven/taken</td>\n",
       "      <td>/werk_nl/werknemer/mijn_werkmap/doorgeven/taken</td>\n",
       "      <td>0</td>\n",
       "      <td>0</td>\n",
       "    </tr>\n",
       "    <tr>\n",
       "      <th>5013440</th>\n",
       "      <td>55314751</td>\n",
       "      <td>/werk_nl/werknemer/mijn_werkmap/doorgeven/taken</td>\n",
       "      <td>/werk_nl/werknemer/mijn_werkmap/doorgeven/taken</td>\n",
       "      <td>0</td>\n",
       "      <td>0</td>\n",
       "    </tr>\n",
       "    <tr>\n",
       "      <th>5012332</th>\n",
       "      <td>55314751</td>\n",
       "      <td>/werk_nl/werknemer/mijn_werkmap/doorgeven/taken</td>\n",
       "      <td>NaN</td>\n",
       "      <td>0</td>\n",
       "      <td>0</td>\n",
       "    </tr>\n",
       "  </tbody>\n",
       "</table>\n",
       "<p>7174934 rows × 5 columns</p>\n",
       "</div>"
      ],
      "text/plain": [
       "         SessionID                                           URL_FILE  \\\n",
       "3273278         46    /werk_nl/werknemer/mijn_werkmap/doorgeven/taken   \n",
       "5333642         46  /werk_nl/werknemer/mijn_werkmap/doorgeven/mijn...   \n",
       "3733243         46  /werk_nl/werknemer/mijn_werkmap/postvak/mijn_d...   \n",
       "5904405         46  /werk_nl/werknemer/mijn_werkmap/postvak/mijn_b...   \n",
       "5573282         46  /werk_nl/werknemer/mijn_werkmap/postvak/mijn_b...   \n",
       "...            ...                                                ...   \n",
       "1613546   55314751                         /werk_nl/werknemer/werkmap   \n",
       "2925569   55314751    /werk_nl/werknemer/mijn_werkmap/doorgeven/taken   \n",
       "4068602   55314751    /werk_nl/werknemer/mijn_werkmap/doorgeven/taken   \n",
       "5013440   55314751    /werk_nl/werknemer/mijn_werkmap/doorgeven/taken   \n",
       "5012332   55314751    /werk_nl/werknemer/mijn_werkmap/doorgeven/taken   \n",
       "\n",
       "                                               consecutive  Count_ww  \\\n",
       "3273278  /werk_nl/werknemer/mijn_werkmap/doorgeven/mijn...         0   \n",
       "5333642  /werk_nl/werknemer/mijn_werkmap/postvak/mijn_d...         0   \n",
       "3733243  /werk_nl/werknemer/mijn_werkmap/postvak/mijn_b...         0   \n",
       "5904405  /werk_nl/werknemer/mijn_werkmap/postvak/mijn_b...         0   \n",
       "5573282  /werk_nl/werknemer/mijn_werkmap/postvak/mijn_b...         0   \n",
       "...                                                    ...       ...   \n",
       "1613546    /werk_nl/werknemer/mijn_werkmap/doorgeven/taken         0   \n",
       "2925569    /werk_nl/werknemer/mijn_werkmap/doorgeven/taken         0   \n",
       "4068602    /werk_nl/werknemer/mijn_werkmap/doorgeven/taken         0   \n",
       "5013440    /werk_nl/werknemer/mijn_werkmap/doorgeven/taken         0   \n",
       "5012332                                                NaN         0   \n",
       "\n",
       "         consecutive_agg  \n",
       "3273278                0  \n",
       "5333642                0  \n",
       "3733243                0  \n",
       "5904405                0  \n",
       "5573282                0  \n",
       "...                  ...  \n",
       "1613546                0  \n",
       "2925569                0  \n",
       "4068602                0  \n",
       "5013440                0  \n",
       "5012332                0  \n",
       "\n",
       "[7174934 rows x 5 columns]"
      ]
     },
     "execution_count": 3,
     "metadata": {},
     "output_type": "execute_result"
    }
   ],
   "source": [
    "df_for_gby[\"consecutive\"] = df_for_gby.groupby(\"SessionID\")[\"URL_FILE\"].shift(periods=-1)\n",
    "df_for_gby[\"Count_ww\"] = (df_for_gby[\"URL_FILE\"] == \"/portal/page/portal/home/diensten/aanvragen-ww\").astype(int)\n",
    "df_for_gby['consecutive_agg'] = df_for_gby.Count_ww.groupby((df_for_gby.Count_ww != df_for_gby.Count_ww.shift()).cumsum()).transform('size') * df_for_gby.Count_ww\n",
    "df_for_gby"
   ]
  },
  {
   "cell_type": "code",
   "execution_count": 4,
   "id": "041a98d7",
   "metadata": {},
   "outputs": [],
   "source": [
    "#Get all the repetitions\n",
    "empty_list = []\n",
    "\n",
    "for row in df_for_gby.values:\n",
    "    if row[-1] == 0:\n",
    "        je_mag_opslaan = True\n",
    "    if je_mag_opslaan == True and row[-1] > 0:\n",
    "        empty_list.append([row[0], row[1], row[-1]])\n",
    "        je_mag_opslaan = False\n",
    "\n",
    "repetition_df = pd.DataFrame(empty_list, columns=[\"SessionID\", \"URL_FILE\", \"Rep_count\"])"
   ]
  },
  {
   "cell_type": "code",
   "execution_count": 5,
   "id": "28a4157c",
   "metadata": {},
   "outputs": [
    {
     "data": {
      "text/html": [
       "<div>\n",
       "<style scoped>\n",
       "    .dataframe tbody tr th:only-of-type {\n",
       "        vertical-align: middle;\n",
       "    }\n",
       "\n",
       "    .dataframe tbody tr th {\n",
       "        vertical-align: top;\n",
       "    }\n",
       "\n",
       "    .dataframe thead th {\n",
       "        text-align: right;\n",
       "    }\n",
       "</style>\n",
       "<table border=\"1\" class=\"dataframe\">\n",
       "  <thead>\n",
       "    <tr style=\"text-align: right;\">\n",
       "      <th></th>\n",
       "      <th>SessionID</th>\n",
       "      <th>URL_FILE</th>\n",
       "      <th>Rep_count</th>\n",
       "    </tr>\n",
       "  </thead>\n",
       "  <tbody>\n",
       "    <tr>\n",
       "      <th>0</th>\n",
       "      <td>5199</td>\n",
       "      <td>/portal/page/portal/home/diensten/aanvragen-ww</td>\n",
       "      <td>62</td>\n",
       "    </tr>\n",
       "    <tr>\n",
       "      <th>1</th>\n",
       "      <td>5199</td>\n",
       "      <td>/portal/page/portal/home/diensten/aanvragen-ww</td>\n",
       "      <td>1</td>\n",
       "    </tr>\n",
       "    <tr>\n",
       "      <th>2</th>\n",
       "      <td>5258</td>\n",
       "      <td>/portal/page/portal/home/diensten/aanvragen-ww</td>\n",
       "      <td>1</td>\n",
       "    </tr>\n",
       "    <tr>\n",
       "      <th>3</th>\n",
       "      <td>21014</td>\n",
       "      <td>/portal/page/portal/home/diensten/aanvragen-ww</td>\n",
       "      <td>24</td>\n",
       "    </tr>\n",
       "    <tr>\n",
       "      <th>4</th>\n",
       "      <td>33941</td>\n",
       "      <td>/portal/page/portal/home/diensten/aanvragen-ww</td>\n",
       "      <td>2</td>\n",
       "    </tr>\n",
       "    <tr>\n",
       "      <th>...</th>\n",
       "      <td>...</td>\n",
       "      <td>...</td>\n",
       "      <td>...</td>\n",
       "    </tr>\n",
       "    <tr>\n",
       "      <th>17976</th>\n",
       "      <td>54523244</td>\n",
       "      <td>/portal/page/portal/home/diensten/aanvragen-ww</td>\n",
       "      <td>3</td>\n",
       "    </tr>\n",
       "    <tr>\n",
       "      <th>17977</th>\n",
       "      <td>54592691</td>\n",
       "      <td>/portal/page/portal/home/diensten/aanvragen-ww</td>\n",
       "      <td>13</td>\n",
       "    </tr>\n",
       "    <tr>\n",
       "      <th>17978</th>\n",
       "      <td>55085137</td>\n",
       "      <td>/portal/page/portal/home/diensten/aanvragen-ww</td>\n",
       "      <td>39</td>\n",
       "    </tr>\n",
       "    <tr>\n",
       "      <th>17979</th>\n",
       "      <td>55149893</td>\n",
       "      <td>/portal/page/portal/home/diensten/aanvragen-ww</td>\n",
       "      <td>33</td>\n",
       "    </tr>\n",
       "    <tr>\n",
       "      <th>17980</th>\n",
       "      <td>55216938</td>\n",
       "      <td>/portal/page/portal/home/diensten/aanvragen-ww</td>\n",
       "      <td>48</td>\n",
       "    </tr>\n",
       "  </tbody>\n",
       "</table>\n",
       "<p>17981 rows × 3 columns</p>\n",
       "</div>"
      ],
      "text/plain": [
       "       SessionID                                        URL_FILE  Rep_count\n",
       "0           5199  /portal/page/portal/home/diensten/aanvragen-ww         62\n",
       "1           5199  /portal/page/portal/home/diensten/aanvragen-ww          1\n",
       "2           5258  /portal/page/portal/home/diensten/aanvragen-ww          1\n",
       "3          21014  /portal/page/portal/home/diensten/aanvragen-ww         24\n",
       "4          33941  /portal/page/portal/home/diensten/aanvragen-ww          2\n",
       "...          ...                                             ...        ...\n",
       "17976   54523244  /portal/page/portal/home/diensten/aanvragen-ww          3\n",
       "17977   54592691  /portal/page/portal/home/diensten/aanvragen-ww         13\n",
       "17978   55085137  /portal/page/portal/home/diensten/aanvragen-ww         39\n",
       "17979   55149893  /portal/page/portal/home/diensten/aanvragen-ww         33\n",
       "17980   55216938  /portal/page/portal/home/diensten/aanvragen-ww         48\n",
       "\n",
       "[17981 rows x 3 columns]"
      ]
     },
     "execution_count": 5,
     "metadata": {},
     "output_type": "execute_result"
    }
   ],
   "source": [
    "repetition_df"
   ]
  },
  {
   "cell_type": "code",
   "execution_count": 6,
   "id": "a10a7b03",
   "metadata": {},
   "outputs": [
    {
     "data": {
      "text/plain": [
       "(11568,)"
      ]
     },
     "execution_count": 6,
     "metadata": {},
     "output_type": "execute_result"
    }
   ],
   "source": [
    "repetition_df[repetition_df[\"URL_FILE\"] == \"/portal/page/portal/home/diensten/aanvragen-ww\"][\"SessionID\"].unique().shape"
   ]
  },
  {
   "cell_type": "code",
   "execution_count": 7,
   "id": "807ca49c",
   "metadata": {},
   "outputs": [],
   "source": [
    "df_aanvragen_rep_in_session = repetition_df[repetition_df[\"URL_FILE\"] == \"/portal/page/portal/home/diensten/aanvragen-ww\"].groupby(\"SessionID\").count()"
   ]
  },
  {
   "cell_type": "code",
   "execution_count": 8,
   "id": "9e4fef7c",
   "metadata": {},
   "outputs": [],
   "source": [
    "count_rep_pattern = df_aanvragen_rep_in_session[\"Rep_count\"].value_counts()"
   ]
  },
  {
   "cell_type": "code",
   "execution_count": 9,
   "id": "93b4b372",
   "metadata": {},
   "outputs": [
    {
     "data": {
      "text/plain": [
       "1     7106\n",
       "2     3062\n",
       "3     1048\n",
       "4      232\n",
       "5       76\n",
       "6       23\n",
       "7       12\n",
       "8        6\n",
       "9        2\n",
       "11       1\n",
       "Name: Rep_count, dtype: int64"
      ]
     },
     "execution_count": 9,
     "metadata": {},
     "output_type": "execute_result"
    }
   ],
   "source": [
    "count_rep_pattern"
   ]
  },
  {
   "cell_type": "code",
   "execution_count": 11,
   "id": "975d8471",
   "metadata": {
    "scrolled": false
   },
   "outputs": [
    {
     "data": {
      "image/png": "[encoded data removed]",
      "text/plain": [
       "<Figure size 1152x576 with 1 Axes>"
      ]
     },
     "metadata": {
      "needs_background": "light"
     },
     "output_type": "display_data"
    }
   ],
   "source": [
    "x = count_rep_pattern.index\n",
    "y = count_rep_pattern.values\n",
    "\n",
    "plt.figure(figsize=(16, 8))\n",
    "#add point x = 10 and y = 0 manually\n",
    "plt.bar([1, 2, 3, 4, 5, 6, 7, 8, 9, 10, 11], [7106, 3062, 1048, 232, 76, 23, 12, 6, 2, 0, 1])\n",
    "plt.ylabel('Frequency of occurrence of pattern')\n",
    "plt.xlabel('Number of advanced repetitions in a single session')\n",
    "plt.xticks([1,2,3,4,5,6,7,8,9,10, 11])\n",
    "\n",
    "for index, value in enumerate( [7106, 3062, 1048, 232, 76, 23, 12, 6, 2, 0, 1]):\n",
    "    plt.text(index+0.90, value+50, str(value))\n",
    "    \n",
    "plt.savefig('repetition_figures/rep_dist_pattern_3.png');\n",
    "plt.show()"
   ]
  },
  {
   "cell_type": "code",
   "execution_count": 12,
   "id": "1851f27a",
   "metadata": {},
   "outputs": [
    {
     "data": {
      "text/html": [
       "<div>\n",
       "<style scoped>\n",
       "    .dataframe tbody tr th:only-of-type {\n",
       "        vertical-align: middle;\n",
       "    }\n",
       "\n",
       "    .dataframe tbody tr th {\n",
       "        vertical-align: top;\n",
       "    }\n",
       "\n",
       "    .dataframe thead th {\n",
       "        text-align: right;\n",
       "    }\n",
       "</style>\n",
       "<table border=\"1\" class=\"dataframe\">\n",
       "  <thead>\n",
       "    <tr style=\"text-align: right;\">\n",
       "      <th></th>\n",
       "      <th>mean</th>\n",
       "      <th>std</th>\n",
       "      <th>min</th>\n",
       "      <th>max</th>\n",
       "      <th>count</th>\n",
       "      <th>sum</th>\n",
       "    </tr>\n",
       "  </thead>\n",
       "  <tbody>\n",
       "    <tr>\n",
       "      <th>Rep_count</th>\n",
       "      <td>1.554374</td>\n",
       "      <td>0.858835</td>\n",
       "      <td>1.0</td>\n",
       "      <td>11.0</td>\n",
       "      <td>11568.0</td>\n",
       "      <td>17981.0</td>\n",
       "    </tr>\n",
       "  </tbody>\n",
       "</table>\n",
       "</div>"
      ],
      "text/plain": [
       "               mean       std  min   max    count      sum\n",
       "Rep_count  1.554374  0.858835  1.0  11.0  11568.0  17981.0"
      ]
     },
     "execution_count": 12,
     "metadata": {},
     "output_type": "execute_result"
    }
   ],
   "source": [
    "df_aanvragen_rep_in_session.agg({'Rep_count':['mean', 'std', 'min', 'max', 'count', 'sum']}).T"
   ]
  },
  {
   "cell_type": "code",
   "execution_count": 13,
   "id": "24a24151",
   "metadata": {},
   "outputs": [],
   "source": [
    "anomaly_sessions = df_aanvragen_rep_in_session[df_aanvragen_rep_in_session[\"Rep_count\"] > 3].index.unique()\n"
   ]
  },
  {
   "cell_type": "code",
   "execution_count": 14,
   "id": "718e261e",
   "metadata": {},
   "outputs": [
    {
     "data": {
      "text/plain": [
       "(352,)"
      ]
     },
     "execution_count": 14,
     "metadata": {},
     "output_type": "execute_result"
    }
   ],
   "source": [
    "anomaly_sessions.shape"
   ]
  },
  {
   "cell_type": "code",
   "execution_count": 15,
   "id": "3c961ab5",
   "metadata": {},
   "outputs": [],
   "source": [
    "anomaly_or_normal = []\n",
    "for session in df_original[\"SessionID\"]:\n",
    "    if session in list(anomaly_sessions):\n",
    "        anomaly_or_normal.append(\"potential_anomaly\")\n",
    "    else:\n",
    "        anomaly_or_normal.append(\"normal\")"
   ]
  },
  {
   "cell_type": "code",
   "execution_count": 16,
   "id": "b92ee6a1",
   "metadata": {},
   "outputs": [],
   "source": [
    "df_original[\"Label\"] = anomaly_or_normal"
   ]
  },
  {
   "cell_type": "code",
   "execution_count": null,
   "id": "3db56904",
   "metadata": {},
   "outputs": [],
   "source": [
    "df_original.to_csv(\"uwv_data_with_labels_pattern_2.csv\")"
   ]
  }
 ],
 "metadata": {
  "kernelspec": {
   "display_name": "Python 3 (ipykernel)",
   "language": "python",
   "name": "python3"
  },
  "language_info": {
   "codemirror_mode": {
    "name": "ipython",
    "version": 3
   },
   "file_extension": ".py",
   "mimetype": "text/x-python",
   "name": "python",
   "nbconvert_exporter": "python",
   "pygments_lexer": "ipython3",
   "version": "3.9.7"
  }
 },
 "nbformat": 4,
 "nbformat_minor": 5
}
